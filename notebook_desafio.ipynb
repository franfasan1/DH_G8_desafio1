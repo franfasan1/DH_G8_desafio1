{
 "cells": [
  {
   "cell_type": "markdown",
   "metadata": {},
   "source": [
    "# Desafío N° 1 - Data Wrangling\n",
    "\n",
    "Esta notebook va a llevar a adelante el Desafío N° 1 del curso de DataScience sobre un dataset correspondiente a la web Properati donde se publican inmuebles de todo el país"
   ]
  },
  {
   "cell_type": "code",
   "execution_count": 1,
   "metadata": {},
   "outputs": [],
   "source": [
    "# En primer lugar importamos las librerias con las que vamos a trabajar a lo largo del proyecto\n",
    "\n",
    "import pandas as pd\n",
    "import numpy as np\n",
    "import seaborn as sns\n",
    "import matplotlib.pyplot as plt\n",
    "import re\n",
    "import geopandas\n",
    "import geoplot as geo"
   ]
  },
  {
   "cell_type": "code",
   "execution_count": 2,
   "metadata": {
    "tags": []
   },
   "outputs": [
    {
     "name": "stdout",
     "output_type": "stream",
     "text": [
      "(121220, 26)\n"
     ]
    },
    {
     "data": {
      "text/html": [
       "<div>\n",
       "<style scoped>\n",
       "    .dataframe tbody tr th:only-of-type {\n",
       "        vertical-align: middle;\n",
       "    }\n",
       "\n",
       "    .dataframe tbody tr th {\n",
       "        vertical-align: top;\n",
       "    }\n",
       "\n",
       "    .dataframe thead th {\n",
       "        text-align: right;\n",
       "    }\n",
       "</style>\n",
       "<table border=\"1\" class=\"dataframe\">\n",
       "  <thead>\n",
       "    <tr style=\"text-align: right;\">\n",
       "      <th></th>\n",
       "      <th>Unnamed: 0</th>\n",
       "      <th>operation</th>\n",
       "      <th>property_type</th>\n",
       "      <th>place_name</th>\n",
       "      <th>place_with_parent_names</th>\n",
       "      <th>country_name</th>\n",
       "      <th>state_name</th>\n",
       "      <th>geonames_id</th>\n",
       "      <th>lat-lon</th>\n",
       "      <th>lat</th>\n",
       "      <th>...</th>\n",
       "      <th>surface_covered_in_m2</th>\n",
       "      <th>price_usd_per_m2</th>\n",
       "      <th>price_per_m2</th>\n",
       "      <th>floor</th>\n",
       "      <th>rooms</th>\n",
       "      <th>expenses</th>\n",
       "      <th>properati_url</th>\n",
       "      <th>description</th>\n",
       "      <th>title</th>\n",
       "      <th>image_thumbnail</th>\n",
       "    </tr>\n",
       "  </thead>\n",
       "  <tbody>\n",
       "    <tr>\n",
       "      <th>0</th>\n",
       "      <td>0</td>\n",
       "      <td>sell</td>\n",
       "      <td>PH</td>\n",
       "      <td>Mataderos</td>\n",
       "      <td>|Argentina|Capital Federal|Mataderos|</td>\n",
       "      <td>Argentina</td>\n",
       "      <td>Capital Federal</td>\n",
       "      <td>3430787.0</td>\n",
       "      <td>-34.6618237,-58.5088387</td>\n",
       "      <td>-34.661824</td>\n",
       "      <td>...</td>\n",
       "      <td>40.0</td>\n",
       "      <td>1127.272727</td>\n",
       "      <td>1550.0</td>\n",
       "      <td>NaN</td>\n",
       "      <td>NaN</td>\n",
       "      <td>NaN</td>\n",
       "      <td>http://www.properati.com.ar/15bo8_venta_ph_mat...</td>\n",
       "      <td>2 AMBIENTES TIPO CASA PLANTA BAJA POR PASILLO,...</td>\n",
       "      <td>2 AMB TIPO CASA SIN EXPENSAS EN PB</td>\n",
       "      <td>https://thumbs4.properati.com/8/BluUYiHJLhgIIK...</td>\n",
       "    </tr>\n",
       "    <tr>\n",
       "      <th>1</th>\n",
       "      <td>1</td>\n",
       "      <td>sell</td>\n",
       "      <td>apartment</td>\n",
       "      <td>La Plata</td>\n",
       "      <td>|Argentina|Bs.As. G.B.A. Zona Sur|La Plata|</td>\n",
       "      <td>Argentina</td>\n",
       "      <td>Bs.As. G.B.A. Zona Sur</td>\n",
       "      <td>3432039.0</td>\n",
       "      <td>-34.9038831,-57.9643295</td>\n",
       "      <td>-34.903883</td>\n",
       "      <td>...</td>\n",
       "      <td>NaN</td>\n",
       "      <td>NaN</td>\n",
       "      <td>NaN</td>\n",
       "      <td>NaN</td>\n",
       "      <td>NaN</td>\n",
       "      <td>NaN</td>\n",
       "      <td>http://www.properati.com.ar/15bob_venta_depart...</td>\n",
       "      <td>Venta de departamento en décimo piso al frente...</td>\n",
       "      <td>VENTA Depto 2 dorm. a estrenar 7 e/ 36 y 37   ...</td>\n",
       "      <td>https://thumbs4.properati.com/7/ikpVBu2ztHA7jv...</td>\n",
       "    </tr>\n",
       "  </tbody>\n",
       "</table>\n",
       "<p>2 rows × 26 columns</p>\n",
       "</div>"
      ],
      "text/plain": [
       "   Unnamed: 0 operation property_type place_name  \\\n",
       "0           0      sell            PH  Mataderos   \n",
       "1           1      sell     apartment   La Plata   \n",
       "\n",
       "                       place_with_parent_names country_name  \\\n",
       "0        |Argentina|Capital Federal|Mataderos|    Argentina   \n",
       "1  |Argentina|Bs.As. G.B.A. Zona Sur|La Plata|    Argentina   \n",
       "\n",
       "               state_name  geonames_id                  lat-lon        lat  \\\n",
       "0         Capital Federal    3430787.0  -34.6618237,-58.5088387 -34.661824   \n",
       "1  Bs.As. G.B.A. Zona Sur    3432039.0  -34.9038831,-57.9643295 -34.903883   \n",
       "\n",
       "   ...  surface_covered_in_m2  price_usd_per_m2 price_per_m2  floor  rooms  \\\n",
       "0  ...                   40.0       1127.272727       1550.0    NaN    NaN   \n",
       "1  ...                    NaN               NaN          NaN    NaN    NaN   \n",
       "\n",
       "   expenses                                      properati_url  \\\n",
       "0       NaN  http://www.properati.com.ar/15bo8_venta_ph_mat...   \n",
       "1       NaN  http://www.properati.com.ar/15bob_venta_depart...   \n",
       "\n",
       "                                         description  \\\n",
       "0  2 AMBIENTES TIPO CASA PLANTA BAJA POR PASILLO,...   \n",
       "1  Venta de departamento en décimo piso al frente...   \n",
       "\n",
       "                                               title  \\\n",
       "0                 2 AMB TIPO CASA SIN EXPENSAS EN PB   \n",
       "1  VENTA Depto 2 dorm. a estrenar 7 e/ 36 y 37   ...   \n",
       "\n",
       "                                     image_thumbnail  \n",
       "0  https://thumbs4.properati.com/8/BluUYiHJLhgIIK...  \n",
       "1  https://thumbs4.properati.com/7/ikpVBu2ztHA7jv...  \n",
       "\n",
       "[2 rows x 26 columns]"
      ]
     },
     "execution_count": 2,
     "metadata": {},
     "output_type": "execute_result"
    }
   ],
   "source": [
    "# Es necesario importar el dataset con el cual vamos a trabajar\n",
    "\n",
    "file_path = \"properati.csv\"\n",
    "data = pd.read_csv(file_path, sep = \",\")\n",
    "print(data.shape)\n",
    "data.head(2)"
   ]
  },
  {
   "cell_type": "code",
   "execution_count": 3,
   "metadata": {},
   "outputs": [
    {
     "data": {
      "text/plain": [
       "float64    13\n",
       "object     12\n",
       "int64       1\n",
       "dtype: int64"
      ]
     },
     "execution_count": 3,
     "metadata": {},
     "output_type": "execute_result"
    }
   ],
   "source": [
    "data.dtypes.value_counts()"
   ]
  },
  {
   "cell_type": "markdown",
   "metadata": {},
   "source": [
    "Se observa que el dataset cuenta con 121000 observaciones y 26 variables, de las cuales 13 son numeros reales, 12 son strings y 1 es un entero (esta igual debemos removerla ya que se trata de un indice innecesario)"
   ]
  },
  {
   "cell_type": "code",
   "execution_count": 4,
   "metadata": {},
   "outputs": [
    {
     "data": {
      "text/html": [
       "<div>\n",
       "<style scoped>\n",
       "    .dataframe tbody tr th:only-of-type {\n",
       "        vertical-align: middle;\n",
       "    }\n",
       "\n",
       "    .dataframe tbody tr th {\n",
       "        vertical-align: top;\n",
       "    }\n",
       "\n",
       "    .dataframe thead th {\n",
       "        text-align: right;\n",
       "    }\n",
       "</style>\n",
       "<table border=\"1\" class=\"dataframe\">\n",
       "  <thead>\n",
       "    <tr style=\"text-align: right;\">\n",
       "      <th></th>\n",
       "      <th>operation</th>\n",
       "      <th>property_type</th>\n",
       "      <th>place_name</th>\n",
       "      <th>place_with_parent_names</th>\n",
       "      <th>country_name</th>\n",
       "      <th>state_name</th>\n",
       "      <th>geonames_id</th>\n",
       "      <th>lat-lon</th>\n",
       "      <th>lat</th>\n",
       "      <th>lon</th>\n",
       "      <th>...</th>\n",
       "      <th>surface_covered_in_m2</th>\n",
       "      <th>price_usd_per_m2</th>\n",
       "      <th>price_per_m2</th>\n",
       "      <th>floor</th>\n",
       "      <th>rooms</th>\n",
       "      <th>expenses</th>\n",
       "      <th>properati_url</th>\n",
       "      <th>description</th>\n",
       "      <th>title</th>\n",
       "      <th>image_thumbnail</th>\n",
       "    </tr>\n",
       "  </thead>\n",
       "  <tbody>\n",
       "    <tr>\n",
       "      <th>0</th>\n",
       "      <td>sell</td>\n",
       "      <td>PH</td>\n",
       "      <td>Mataderos</td>\n",
       "      <td>|Argentina|Capital Federal|Mataderos|</td>\n",
       "      <td>Argentina</td>\n",
       "      <td>Capital Federal</td>\n",
       "      <td>3430787.0</td>\n",
       "      <td>-34.6618237,-58.5088387</td>\n",
       "      <td>-34.661824</td>\n",
       "      <td>-58.508839</td>\n",
       "      <td>...</td>\n",
       "      <td>40.0</td>\n",
       "      <td>1127.272727</td>\n",
       "      <td>1550.0</td>\n",
       "      <td>NaN</td>\n",
       "      <td>NaN</td>\n",
       "      <td>NaN</td>\n",
       "      <td>http://www.properati.com.ar/15bo8_venta_ph_mat...</td>\n",
       "      <td>2 AMBIENTES TIPO CASA PLANTA BAJA POR PASILLO,...</td>\n",
       "      <td>2 AMB TIPO CASA SIN EXPENSAS EN PB</td>\n",
       "      <td>https://thumbs4.properati.com/8/BluUYiHJLhgIIK...</td>\n",
       "    </tr>\n",
       "    <tr>\n",
       "      <th>1</th>\n",
       "      <td>sell</td>\n",
       "      <td>apartment</td>\n",
       "      <td>La Plata</td>\n",
       "      <td>|Argentina|Bs.As. G.B.A. Zona Sur|La Plata|</td>\n",
       "      <td>Argentina</td>\n",
       "      <td>Bs.As. G.B.A. Zona Sur</td>\n",
       "      <td>3432039.0</td>\n",
       "      <td>-34.9038831,-57.9643295</td>\n",
       "      <td>-34.903883</td>\n",
       "      <td>-57.964330</td>\n",
       "      <td>...</td>\n",
       "      <td>NaN</td>\n",
       "      <td>NaN</td>\n",
       "      <td>NaN</td>\n",
       "      <td>NaN</td>\n",
       "      <td>NaN</td>\n",
       "      <td>NaN</td>\n",
       "      <td>http://www.properati.com.ar/15bob_venta_depart...</td>\n",
       "      <td>Venta de departamento en décimo piso al frente...</td>\n",
       "      <td>VENTA Depto 2 dorm. a estrenar 7 e/ 36 y 37   ...</td>\n",
       "      <td>https://thumbs4.properati.com/7/ikpVBu2ztHA7jv...</td>\n",
       "    </tr>\n",
       "  </tbody>\n",
       "</table>\n",
       "<p>2 rows × 25 columns</p>\n",
       "</div>"
      ],
      "text/plain": [
       "  operation property_type place_name  \\\n",
       "0      sell            PH  Mataderos   \n",
       "1      sell     apartment   La Plata   \n",
       "\n",
       "                       place_with_parent_names country_name  \\\n",
       "0        |Argentina|Capital Federal|Mataderos|    Argentina   \n",
       "1  |Argentina|Bs.As. G.B.A. Zona Sur|La Plata|    Argentina   \n",
       "\n",
       "               state_name  geonames_id                  lat-lon        lat  \\\n",
       "0         Capital Federal    3430787.0  -34.6618237,-58.5088387 -34.661824   \n",
       "1  Bs.As. G.B.A. Zona Sur    3432039.0  -34.9038831,-57.9643295 -34.903883   \n",
       "\n",
       "         lon  ...  surface_covered_in_m2 price_usd_per_m2  price_per_m2  \\\n",
       "0 -58.508839  ...                   40.0      1127.272727        1550.0   \n",
       "1 -57.964330  ...                    NaN              NaN           NaN   \n",
       "\n",
       "   floor  rooms  expenses                                      properati_url  \\\n",
       "0    NaN    NaN       NaN  http://www.properati.com.ar/15bo8_venta_ph_mat...   \n",
       "1    NaN    NaN       NaN  http://www.properati.com.ar/15bob_venta_depart...   \n",
       "\n",
       "                                         description  \\\n",
       "0  2 AMBIENTES TIPO CASA PLANTA BAJA POR PASILLO,...   \n",
       "1  Venta de departamento en décimo piso al frente...   \n",
       "\n",
       "                                               title  \\\n",
       "0                 2 AMB TIPO CASA SIN EXPENSAS EN PB   \n",
       "1  VENTA Depto 2 dorm. a estrenar 7 e/ 36 y 37   ...   \n",
       "\n",
       "                                     image_thumbnail  \n",
       "0  https://thumbs4.properati.com/8/BluUYiHJLhgIIK...  \n",
       "1  https://thumbs4.properati.com/7/ikpVBu2ztHA7jv...  \n",
       "\n",
       "[2 rows x 25 columns]"
      ]
     },
     "execution_count": 4,
     "metadata": {},
     "output_type": "execute_result"
    }
   ],
   "source": [
    "# Procedemos a remover la primer columna del dataset\n",
    "\n",
    "data = data.iloc[:,1:]\n",
    "data.head(2)"
   ]
  },
  {
   "cell_type": "code",
   "execution_count": 5,
   "metadata": {},
   "outputs": [
    {
     "name": "stdout",
     "output_type": "stream",
     "text": [
      "operation                      object\n",
      "property_type                  object\n",
      "place_name                     object\n",
      "place_with_parent_names        object\n",
      "country_name                   object\n",
      "state_name                     object\n",
      "geonames_id                   float64\n",
      "lat-lon                        object\n",
      "lat                           float64\n",
      "lon                           float64\n",
      "price                         float64\n",
      "currency                       object\n",
      "price_aprox_local_currency    float64\n",
      "price_aprox_usd               float64\n",
      "surface_total_in_m2           float64\n",
      "surface_covered_in_m2         float64\n",
      "price_usd_per_m2              float64\n",
      "price_per_m2                  float64\n",
      "floor                         float64\n",
      "rooms                         float64\n",
      "expenses                      float64\n",
      "properati_url                  object\n",
      "description                    object\n",
      "title                          object\n",
      "image_thumbnail                object\n",
      "dtype: object\n",
      "\n",
      "\n",
      "<class 'pandas.core.frame.DataFrame'>\n",
      "RangeIndex: 121220 entries, 0 to 121219\n",
      "Data columns (total 25 columns):\n",
      " #   Column                      Non-Null Count   Dtype  \n",
      "---  ------                      --------------   -----  \n",
      " 0   operation                   121220 non-null  object \n",
      " 1   property_type               121220 non-null  object \n",
      " 2   place_name                  121197 non-null  object \n",
      " 3   place_with_parent_names     121220 non-null  object \n",
      " 4   country_name                121220 non-null  object \n",
      " 5   state_name                  121220 non-null  object \n",
      " 6   geonames_id                 102503 non-null  float64\n",
      " 7   lat-lon                     69670 non-null   object \n",
      " 8   lat                         69670 non-null   float64\n",
      " 9   lon                         69670 non-null   float64\n",
      " 10  price                       100810 non-null  float64\n",
      " 11  currency                    100809 non-null  object \n",
      " 12  price_aprox_local_currency  100810 non-null  float64\n",
      " 13  price_aprox_usd             100810 non-null  float64\n",
      " 14  surface_total_in_m2         81892 non-null   float64\n",
      " 15  surface_covered_in_m2       101313 non-null  float64\n",
      " 16  price_usd_per_m2            68617 non-null   float64\n",
      " 17  price_per_m2                87658 non-null   float64\n",
      " 18  floor                       7899 non-null    float64\n",
      " 19  rooms                       47390 non-null   float64\n",
      " 20  expenses                    14262 non-null   float64\n",
      " 21  properati_url               121220 non-null  object \n",
      " 22  description                 121218 non-null  object \n",
      " 23  title                       121220 non-null  object \n",
      " 24  image_thumbnail             118108 non-null  object \n",
      "dtypes: float64(13), object(12)\n",
      "memory usage: 23.1+ MB\n"
     ]
    }
   ],
   "source": [
    "# Algo interesante para mirar sería el tipo de dato que tiene cada variable\n",
    "\n",
    "print(data.dtypes)\n",
    "print(\"\\n\")\n",
    "\n",
    "# Y también ver como se distribuyen los datos que son numericos\n",
    "data.info()"
   ]
  },
  {
   "cell_type": "markdown",
   "metadata": {},
   "source": [
    "Se ve que hay algunas columnas que parecen no aportar mucha información al dataset, mas bien redundan basadas en otras columnas\n",
    "En este sentido esto va en contra de la idea de \"tidy data\".\n",
    "Sería una buena idea remover estas columnas\n",
    "\n",
    "Por otro lado hay columnas muy poco relevantes como por ejemplo el URL de la publicación o el URL de las fotos presentes en el dataset. A simple vista se ve que esto no puede ser manejado por ningún modelo predictivo.\n",
    "También seria relevanete remover estas columnas"
   ]
  },
  {
   "cell_type": "code",
   "execution_count": 6,
   "metadata": {},
   "outputs": [],
   "source": [
    "data.drop(['place_with_parent_names', 'lat-lon'], axis = 1, inplace= True)\n",
    "data.drop(['image_thumbnail'], axis = 1, inplace= True)"
   ]
  },
  {
   "cell_type": "markdown",
   "metadata": {},
   "source": [
    "## Análisis sobre CABA\n",
    "\n",
    "Dado que el dataset es sustancialemnte grande y con gran variabilidad en la completitud de los datos, decidimos enfocar nuestro análisis sobre una región en particular: Capital Federal, ya que es la región que aglomera la mayor cantidad de publicaciones"
   ]
  },
  {
   "cell_type": "code",
   "execution_count": 7,
   "metadata": {},
   "outputs": [
    {
     "data": {
      "text/plain": [
       "Capital Federal             32316\n",
       "Bs.As. G.B.A. Zona Norte    25560\n",
       "Bs.As. G.B.A. Zona Sur      13952\n",
       "Córdoba                     12069\n",
       "Name: state_name, dtype: int64"
      ]
     },
     "execution_count": 7,
     "metadata": {},
     "output_type": "execute_result"
    }
   ],
   "source": [
    "data.state_name.value_counts().head(4)"
   ]
  },
  {
   "cell_type": "code",
   "execution_count": 8,
   "metadata": {},
   "outputs": [
    {
     "data": {
      "text/html": [
       "<div>\n",
       "<style scoped>\n",
       "    .dataframe tbody tr th:only-of-type {\n",
       "        vertical-align: middle;\n",
       "    }\n",
       "\n",
       "    .dataframe tbody tr th {\n",
       "        vertical-align: top;\n",
       "    }\n",
       "\n",
       "    .dataframe thead th {\n",
       "        text-align: right;\n",
       "    }\n",
       "</style>\n",
       "<table border=\"1\" class=\"dataframe\">\n",
       "  <thead>\n",
       "    <tr style=\"text-align: right;\">\n",
       "      <th></th>\n",
       "      <th>operation</th>\n",
       "      <th>property_type</th>\n",
       "      <th>place_name</th>\n",
       "      <th>country_name</th>\n",
       "      <th>state_name</th>\n",
       "      <th>geonames_id</th>\n",
       "      <th>lat</th>\n",
       "      <th>lon</th>\n",
       "      <th>price</th>\n",
       "      <th>currency</th>\n",
       "      <th>...</th>\n",
       "      <th>surface_total_in_m2</th>\n",
       "      <th>surface_covered_in_m2</th>\n",
       "      <th>price_usd_per_m2</th>\n",
       "      <th>price_per_m2</th>\n",
       "      <th>floor</th>\n",
       "      <th>rooms</th>\n",
       "      <th>expenses</th>\n",
       "      <th>properati_url</th>\n",
       "      <th>description</th>\n",
       "      <th>title</th>\n",
       "    </tr>\n",
       "  </thead>\n",
       "  <tbody>\n",
       "    <tr>\n",
       "      <th>87852</th>\n",
       "      <td>sell</td>\n",
       "      <td>apartment</td>\n",
       "      <td>Chacarita</td>\n",
       "      <td>Argentina</td>\n",
       "      <td>Capital Federal</td>\n",
       "      <td>3435506.0</td>\n",
       "      <td>NaN</td>\n",
       "      <td>NaN</td>\n",
       "      <td>105165.0</td>\n",
       "      <td>USD</td>\n",
       "      <td>...</td>\n",
       "      <td>51.0</td>\n",
       "      <td>48.0</td>\n",
       "      <td>2062.058824</td>\n",
       "      <td>2190.937500</td>\n",
       "      <td>NaN</td>\n",
       "      <td>NaN</td>\n",
       "      <td>NaN</td>\n",
       "      <td>http://www.properati.com.ar/1b6hz_venta_depart...</td>\n",
       "      <td>Entrega Marzo 2019Forma de pago 50% y 22 cuota...</td>\n",
       "      <td>Venta al costo, lanzamiento posibilidad de fin...</td>\n",
       "    </tr>\n",
       "    <tr>\n",
       "      <th>71782</th>\n",
       "      <td>sell</td>\n",
       "      <td>store</td>\n",
       "      <td>Palermo Hollywood</td>\n",
       "      <td>Argentina</td>\n",
       "      <td>Capital Federal</td>\n",
       "      <td>NaN</td>\n",
       "      <td>NaN</td>\n",
       "      <td>NaN</td>\n",
       "      <td>NaN</td>\n",
       "      <td>NaN</td>\n",
       "      <td>...</td>\n",
       "      <td>154.0</td>\n",
       "      <td>154.0</td>\n",
       "      <td>NaN</td>\n",
       "      <td>NaN</td>\n",
       "      <td>NaN</td>\n",
       "      <td>NaN</td>\n",
       "      <td>NaN</td>\n",
       "      <td>http://www.properati.com.ar/1alf9_venta_local_...</td>\n",
       "      <td>Se implanta sobre un lote de 30 m de frente so...</td>\n",
       "      <td>Local - Palermo Hollywood</td>\n",
       "    </tr>\n",
       "    <tr>\n",
       "      <th>96235</th>\n",
       "      <td>sell</td>\n",
       "      <td>apartment</td>\n",
       "      <td>Villa Crespo</td>\n",
       "      <td>Argentina</td>\n",
       "      <td>Capital Federal</td>\n",
       "      <td>3427458.0</td>\n",
       "      <td>NaN</td>\n",
       "      <td>NaN</td>\n",
       "      <td>107057.0</td>\n",
       "      <td>USD</td>\n",
       "      <td>...</td>\n",
       "      <td>34.0</td>\n",
       "      <td>31.0</td>\n",
       "      <td>3148.735294</td>\n",
       "      <td>3453.451613</td>\n",
       "      <td>NaN</td>\n",
       "      <td>NaN</td>\n",
       "      <td>1200.0</td>\n",
       "      <td>http://www.properati.com.ar/1bid1_venta_depart...</td>\n",
       "      <td>El edificio Serrano 629 cuenta con unidades de...</td>\n",
       "      <td>Departamento - Villa Crespo - hermoso ambiente</td>\n",
       "    </tr>\n",
       "  </tbody>\n",
       "</table>\n",
       "<p>3 rows × 22 columns</p>\n",
       "</div>"
      ],
      "text/plain": [
       "      operation property_type         place_name country_name  \\\n",
       "87852      sell     apartment          Chacarita    Argentina   \n",
       "71782      sell         store  Palermo Hollywood    Argentina   \n",
       "96235      sell     apartment       Villa Crespo    Argentina   \n",
       "\n",
       "            state_name  geonames_id  lat  lon     price currency  ...  \\\n",
       "87852  Capital Federal    3435506.0  NaN  NaN  105165.0      USD  ...   \n",
       "71782  Capital Federal          NaN  NaN  NaN       NaN      NaN  ...   \n",
       "96235  Capital Federal    3427458.0  NaN  NaN  107057.0      USD  ...   \n",
       "\n",
       "       surface_total_in_m2  surface_covered_in_m2  price_usd_per_m2  \\\n",
       "87852                 51.0                   48.0       2062.058824   \n",
       "71782                154.0                  154.0               NaN   \n",
       "96235                 34.0                   31.0       3148.735294   \n",
       "\n",
       "       price_per_m2  floor  rooms  expenses  \\\n",
       "87852   2190.937500    NaN    NaN       NaN   \n",
       "71782           NaN    NaN    NaN       NaN   \n",
       "96235   3453.451613    NaN    NaN    1200.0   \n",
       "\n",
       "                                           properati_url  \\\n",
       "87852  http://www.properati.com.ar/1b6hz_venta_depart...   \n",
       "71782  http://www.properati.com.ar/1alf9_venta_local_...   \n",
       "96235  http://www.properati.com.ar/1bid1_venta_depart...   \n",
       "\n",
       "                                             description  \\\n",
       "87852  Entrega Marzo 2019Forma de pago 50% y 22 cuota...   \n",
       "71782  Se implanta sobre un lote de 30 m de frente so...   \n",
       "96235  El edificio Serrano 629 cuenta con unidades de...   \n",
       "\n",
       "                                                   title  \n",
       "87852  Venta al costo, lanzamiento posibilidad de fin...  \n",
       "71782                          Local - Palermo Hollywood  \n",
       "96235     Departamento - Villa Crespo - hermoso ambiente  \n",
       "\n",
       "[3 rows x 22 columns]"
      ]
     },
     "execution_count": 8,
     "metadata": {},
     "output_type": "execute_result"
    }
   ],
   "source": [
    "states = [\"Capital Federal\"]\n",
    "\n",
    "mask = [(x in states) for x in data.state_name]\n",
    "\n",
    "data_caba = data.loc[mask,:]\n",
    "data_caba.sample(3)"
   ]
  },
  {
   "cell_type": "code",
   "execution_count": 9,
   "metadata": {},
   "outputs": [
    {
     "data": {
      "text/plain": [
       "(32316, 22)"
      ]
     },
     "execution_count": 9,
     "metadata": {},
     "output_type": "execute_result"
    }
   ],
   "source": [
    "data_caba.shape"
   ]
  },
  {
   "cell_type": "markdown",
   "metadata": {},
   "source": [
    "# Manejo preliminar de Outliers"
   ]
  },
  {
   "cell_type": "markdown",
   "metadata": {},
   "source": [
    "### Superficie en m2\n",
    "\n",
    "Una de las principales variables del dataset es la superficie de la propiedad ya que define en gran medida el precio final del inmueble. Es importante estudiar si existe algún tipo de outlier antes de empezar a trabajar sobre el dataset y realicemos imputaciones.\n",
    "\n",
    "Se ve que hay un valor muy extremo que perjudica la dsitribución de los datos, la mejor decisión va a ser eliminar ese dato y llenarlo con null.\n",
    "\n",
    "Por otro lado se ve que hay muchos departamentos con valores muy elevados de superficie cubierta y sin embargo las descripciones no coinciden con esos valores. En la mayor parte de los casos es el valor de la descripción multiplicado por 100 (un error de decimales)"
   ]
  },
  {
   "cell_type": "code",
   "execution_count": 10,
   "metadata": {},
   "outputs": [
    {
     "data": {
      "text/plain": [
       "[(0.0, 200000.0), Text(0, 0.5, 'Tipo Propiedad'), Text(0.5, 0, 'Sup Cubierta')]"
      ]
     },
     "execution_count": 10,
     "metadata": {},
     "output_type": "execute_result"
    },
    {
     "data": {
      "image/png": "[encoded data removed]",
      "text/plain": [
       "<Figure size 432x288 with 1 Axes>"
      ]
     },
     "metadata": {
      "needs_background": "light"
     },
     "output_type": "display_data"
    }
   ],
   "source": [
    "g = sns.boxplot(x = data_caba.surface_covered_in_m2, y = data_caba.property_type)\n",
    "g.set(xlim=(0,200000), ylabel = \"Tipo Propiedad\", xlabel = \"Sup Cubierta\")"
   ]
  },
  {
   "cell_type": "code",
   "execution_count": 11,
   "metadata": {},
   "outputs": [
    {
     "name": "stderr",
     "output_type": "stream",
     "text": [
      "C:\\Users\\franf\\anaconda3\\envs\\dhdsblend_37\\lib\\site-packages\\ipykernel_launcher.py:4: SettingWithCopyWarning: \n",
      "A value is trying to be set on a copy of a slice from a DataFrame.\n",
      "Try using .loc[row_indexer,col_indexer] = value instead\n",
      "\n",
      "See the caveats in the documentation: https://pandas.pydata.org/pandas-docs/stable/user_guide/indexing.html#returning-a-view-versus-a-copy\n",
      "  after removing the cwd from sys.path.\n",
      "C:\\Users\\franf\\anaconda3\\envs\\dhdsblend_37\\lib\\site-packages\\ipykernel_launcher.py:11: SettingWithCopyWarning: \n",
      "A value is trying to be set on a copy of a slice from a DataFrame.\n",
      "Try using .loc[row_indexer,col_indexer] = value instead\n",
      "\n",
      "See the caveats in the documentation: https://pandas.pydata.org/pandas-docs/stable/user_guide/indexing.html#returning-a-view-versus-a-copy\n",
      "  # This is added back by InteractiveShellApp.init_path()\n"
     ]
    }
   ],
   "source": [
    "# Superfice cubierta en m2\n",
    "\n",
    "maximo = data_caba.surface_covered_in_m2.max()\n",
    "data_caba['surface_covered_in_m2'] = data_caba.surface_covered_in_m2.replace(maximo, np.NaN)\n",
    "\n",
    "remplazo = data_caba[(data_caba.property_type == 'apartment') & (data_caba.surface_covered_in_m2 > 1000)].surface_covered_in_m2 / 100\n",
    "\n",
    "prueba = pd.merge(data_caba, remplazo, right_index= True, left_index= True, suffixes=(\"\",\"_new\"), how = 'left')\n",
    "prueba\n",
    "\n",
    "data_caba['surface_covered_in_m2'] = prueba.surface_covered_in_m2_new.fillna(prueba.surface_covered_in_m2)"
   ]
  },
  {
   "cell_type": "code",
   "execution_count": 12,
   "metadata": {},
   "outputs": [
    {
     "data": {
      "text/plain": [
       "[(0.0, 8000.0), Text(0, 0.5, 'Tipo Propiedad'), Text(0.5, 0, 'Sup Cubierta')]"
      ]
     },
     "execution_count": 12,
     "metadata": {},
     "output_type": "execute_result"
    },
    {
     "data": {
      "image/png": "[encoded data removed]",
      "text/plain": [
       "<Figure size 432x288 with 1 Axes>"
      ]
     },
     "metadata": {
      "needs_background": "light"
     },
     "output_type": "display_data"
    }
   ],
   "source": [
    "g = sns.boxplot(x = data_caba.surface_covered_in_m2, y = data_caba.property_type)\n",
    "g.set(xlim=(0,8000), ylabel = \"Tipo Propiedad\", xlabel = \"Sup Cubierta\")"
   ]
  },
  {
   "cell_type": "code",
   "execution_count": 13,
   "metadata": {},
   "outputs": [
    {
     "name": "stderr",
     "output_type": "stream",
     "text": [
      "C:\\Users\\franf\\anaconda3\\envs\\dhdsblend_37\\lib\\site-packages\\ipykernel_launcher.py:2: SettingWithCopyWarning: \n",
      "A value is trying to be set on a copy of a slice from a DataFrame.\n",
      "Try using .loc[row_indexer,col_indexer] = value instead\n",
      "\n",
      "See the caveats in the documentation: https://pandas.pydata.org/pandas-docs/stable/user_guide/indexing.html#returning-a-view-versus-a-copy\n",
      "  \n",
      "C:\\Users\\franf\\anaconda3\\envs\\dhdsblend_37\\lib\\site-packages\\ipykernel_launcher.py:9: SettingWithCopyWarning: \n",
      "A value is trying to be set on a copy of a slice from a DataFrame.\n",
      "Try using .loc[row_indexer,col_indexer] = value instead\n",
      "\n",
      "See the caveats in the documentation: https://pandas.pydata.org/pandas-docs/stable/user_guide/indexing.html#returning-a-view-versus-a-copy\n",
      "  if __name__ == '__main__':\n"
     ]
    },
    {
     "data": {
      "text/plain": [
       "<AxesSubplot:xlabel='surface_total_in_m2', ylabel='property_type'>"
      ]
     },
     "execution_count": 13,
     "metadata": {},
     "output_type": "execute_result"
    },
    {
     "data": {
      "image/png": "[encoded data removed]",
      "text/plain": [
       "<Figure size 432x288 with 1 Axes>"
      ]
     },
     "metadata": {
      "needs_background": "light"
     },
     "output_type": "display_data"
    }
   ],
   "source": [
    "maximo = data_caba.surface_total_in_m2.max()\n",
    "data_caba['surface_total_in_m2'] = data_caba.surface_total_in_m2.replace(maximo, np.NaN)\n",
    "\n",
    "remplazo = data_caba[(data_caba.property_type == 'apartment') & (data_caba.surface_total_in_m2 > 1000)].surface_total_in_m2 / 100\n",
    "\n",
    "prueba = pd.merge(data_caba, remplazo, right_index= True, left_index= True, suffixes=(\"\",\"_new\"), how = 'left')\n",
    "prueba\n",
    "\n",
    "data_caba['surface_total_in_m2'] = prueba.surface_total_in_m2_new.fillna(prueba.surface_total_in_m2)\n",
    "\n",
    "sns.boxplot(data_caba.surface_total_in_m2, data_caba.property_type)"
   ]
  },
  {
   "cell_type": "markdown",
   "metadata": {},
   "source": [
    "Otro aspecto que nos resultó extraño es la presencia de relaciones muy elevadas entre la superficie cubierta y la total, especialmente en el caso de los \"apartments\" y los \"PH\". Al analizarlo en detalle descubrimos que en algunos casos se trata de errores en la carga y procedemos a ajustar sus valores"
   ]
  },
  {
   "cell_type": "code",
   "execution_count": 14,
   "metadata": {},
   "outputs": [
    {
     "data": {
      "text/plain": [
       "<AxesSubplot:ylabel='property_type'>"
      ]
     },
     "execution_count": 14,
     "metadata": {},
     "output_type": "execute_result"
    },
    {
     "data": {
      "image/png": "[encoded data removed]",
      "text/plain": [
       "<Figure size 432x288 with 1 Axes>"
      ]
     },
     "metadata": {
      "needs_background": "light"
     },
     "output_type": "display_data"
    }
   ],
   "source": [
    "por_sup_cubierta = data_caba.surface_covered_in_m2/data_caba.surface_total_in_m2\n",
    "por_sup_cubierta.describe()\n",
    "\n",
    "sns.boxplot(x = por_sup_cubierta, y = data_caba.property_type)"
   ]
  },
  {
   "cell_type": "code",
   "execution_count": 15,
   "metadata": {},
   "outputs": [
    {
     "name": "stderr",
     "output_type": "stream",
     "text": [
      "C:\\Users\\franf\\anaconda3\\envs\\dhdsblend_37\\lib\\site-packages\\pandas\\core\\indexing.py:966: SettingWithCopyWarning: \n",
      "A value is trying to be set on a copy of a slice from a DataFrame.\n",
      "Try using .loc[row_indexer,col_indexer] = value instead\n",
      "\n",
      "See the caveats in the documentation: https://pandas.pydata.org/pandas-docs/stable/user_guide/indexing.html#returning-a-view-versus-a-copy\n",
      "  self.obj[item] = s\n"
     ]
    },
    {
     "data": {
      "text/plain": [
       "<AxesSubplot:ylabel='property_type'>"
      ]
     },
     "execution_count": 15,
     "metadata": {},
     "output_type": "execute_result"
    },
    {
     "data": {
      "image/png": "[encoded data removed]",
      "text/plain": [
       "<Figure size 432x288 with 1 Axes>"
      ]
     },
     "metadata": {
      "needs_background": "light"
     },
     "output_type": "display_data"
    }
   ],
   "source": [
    "dat = data_caba\n",
    "\n",
    "ind = dat[(por_sup_cubierta > 1.5) & (dat.property_type == \"apartment\") & (dat.price_usd_per_m2 > 5000)].index\n",
    "\n",
    "dat.loc[ind,'surface_total_in_m2'] = dat.loc[ind,'surface_covered_in_m2']\n",
    "\n",
    "\n",
    "por_sup_cubierta = dat.surface_covered_in_m2/dat.surface_total_in_m2\n",
    "sns.boxplot(x = por_sup_cubierta, y = dat.property_type)"
   ]
  },
  {
   "cell_type": "code",
   "execution_count": 16,
   "metadata": {},
   "outputs": [
    {
     "name": "stderr",
     "output_type": "stream",
     "text": [
      "C:\\Users\\franf\\anaconda3\\envs\\dhdsblend_37\\lib\\site-packages\\pandas\\core\\indexing.py:966: SettingWithCopyWarning: \n",
      "A value is trying to be set on a copy of a slice from a DataFrame.\n",
      "Try using .loc[row_indexer,col_indexer] = value instead\n",
      "\n",
      "See the caveats in the documentation: https://pandas.pydata.org/pandas-docs/stable/user_guide/indexing.html#returning-a-view-versus-a-copy\n",
      "  self.obj[item] = s\n"
     ]
    }
   ],
   "source": [
    "maximo_PH = dat[(dat.property_type == \"PH\") & (por_sup_cubierta > 2)].surface_covered_in_m2\n",
    "ind = dat[(dat.property_type == \"PH\") & (por_sup_cubierta > 2)].index\n",
    "\n",
    "dat.loc[ind, 'surface_total_in_m2'] = maximo_PH"
   ]
  },
  {
   "cell_type": "code",
   "execution_count": 17,
   "metadata": {},
   "outputs": [],
   "source": [
    "data_caba = dat"
   ]
  },
  {
   "cell_type": "markdown",
   "metadata": {},
   "source": [
    "### Precio y precio x m2\n",
    "\n",
    "Estas dos variables también son muy relevantes ya que son las que queremos predecir o estimar en un futuro. Intentar eliminar los valores extraños o ruidosos podría ayudarnos a obtener mejores resultados\n",
    "\n",
    "No es tan conveniente trabajar sobre los precios ya que dependen del tamaño de la propiedad, pero por otro lado el precio por m2 es una metrica más estable y que deberíamos analizar que no tenga valores extremos"
   ]
  },
  {
   "cell_type": "code",
   "execution_count": 18,
   "metadata": {},
   "outputs": [],
   "source": [
    "ind = data_caba[(data_caba.price_usd_per_m2 > 20000) & ((data_caba.property_type == \"apartment\") | (data_caba.property_type == \"PH\"))].index\n",
    "\n",
    "data_caba.loc[ind, 'price_usd_per_m2'] = np.NaN"
   ]
  },
  {
   "cell_type": "code",
   "execution_count": 19,
   "metadata": {},
   "outputs": [
    {
     "data": {
      "text/plain": [
       "<AxesSubplot:>"
      ]
     },
     "execution_count": 19,
     "metadata": {},
     "output_type": "execute_result"
    },
    {
     "data": {
      "image/png": "[encoded data removed]",
      "text/plain": [
       "<Figure size 432x288 with 1 Axes>"
      ]
     },
     "metadata": {
      "needs_background": "light"
     },
     "output_type": "display_data"
    }
   ],
   "source": [
    "PH = data_caba[data_caba.property_type ==\"PH\"].price_usd_per_m2\n",
    "PH.name = \"PH\"\n",
    "\n",
    "apartment = data_caba[data_caba.property_type ==\"apartment\"].price_usd_per_m2\n",
    "apartment.name = \"apartment\"\n",
    "\n",
    "store = data_caba[data_caba.property_type ==\"store\"].price_usd_per_m2\n",
    "store.name = \"store\"\n",
    "\n",
    "house = data_caba[data_caba.property_type ==\"house\"].price_usd_per_m2\n",
    "house.name = \"house\"\n",
    "\n",
    "sns.kdeplot(PH, shade = True, color = \"r\")\n",
    "sns.kdeplot(apartment, shade = True, color = \"b\")\n",
    "sns.kdeplot(store, shade = True, color = \"g\")\n",
    "sns.kdeplot(house, shade = True, color = \"c\")"
   ]
  },
  {
   "cell_type": "code",
   "execution_count": 20,
   "metadata": {},
   "outputs": [
    {
     "data": {
      "text/plain": [
       "<AxesSubplot:xlabel='price_usd_per_m2', ylabel='property_type'>"
      ]
     },
     "execution_count": 20,
     "metadata": {},
     "output_type": "execute_result"
    },
    {
     "data": {
      "image/png": "[encoded data removed]",
      "text/plain": [
       "<Figure size 432x288 with 1 Axes>"
      ]
     },
     "metadata": {
      "needs_background": "light"
     },
     "output_type": "display_data"
    }
   ],
   "source": [
    "data_2 = data_caba\n",
    "data_2 = data_2[data_2.price_usd_per_m2 < 20000]\n",
    "sns.boxplot(y = data_2.property_type, x = data_2.price_usd_per_m2)"
   ]
  },
  {
   "cell_type": "code",
   "execution_count": 21,
   "metadata": {},
   "outputs": [
    {
     "name": "stderr",
     "output_type": "stream",
     "text": [
      "C:\\Users\\franf\\anaconda3\\envs\\dhdsblend_37\\lib\\site-packages\\ipykernel_launcher.py:1: UserWarning: Boolean Series key will be reindexed to match DataFrame index.\n",
      "  \"\"\"Entry point for launching an IPython kernel.\n",
      "C:\\Users\\franf\\anaconda3\\envs\\dhdsblend_37\\lib\\site-packages\\ipykernel_launcher.py:4: UserWarning: Boolean Series key will be reindexed to match DataFrame index.\n",
      "  after removing the cwd from sys.path.\n",
      "C:\\Users\\franf\\anaconda3\\envs\\dhdsblend_37\\lib\\site-packages\\ipykernel_launcher.py:7: UserWarning: Boolean Series key will be reindexed to match DataFrame index.\n",
      "  import sys\n",
      "C:\\Users\\franf\\anaconda3\\envs\\dhdsblend_37\\lib\\site-packages\\ipykernel_launcher.py:10: UserWarning: Boolean Series key will be reindexed to match DataFrame index.\n",
      "  # Remove the CWD from sys.path while we load stuff.\n"
     ]
    },
    {
     "data": {
      "text/plain": [
       "<AxesSubplot:>"
      ]
     },
     "execution_count": 21,
     "metadata": {},
     "output_type": "execute_result"
    },
    {
     "data": {
      "image/png": "[encoded data removed]",
      "text/plain": [
       "<Figure size 432x288 with 1 Axes>"
      ]
     },
     "metadata": {
      "needs_background": "light"
     },
     "output_type": "display_data"
    }
   ],
   "source": [
    "PH = data_2[data_caba.property_type ==\"PH\"].price_usd_per_m2\n",
    "PH.name = \"PH\"\n",
    "\n",
    "apartment = data_2[data_caba.property_type ==\"apartment\"].price_usd_per_m2\n",
    "apartment.name = \"apartment\"\n",
    "\n",
    "store = data_2[data_caba.property_type ==\"store\"].price_usd_per_m2\n",
    "store.name = \"store\"\n",
    "\n",
    "house = data_2[data_caba.property_type ==\"house\"].price_usd_per_m2\n",
    "house.name = \"house\"\n",
    "\n",
    "sns.kdeplot(PH, shade = True, color = \"r\")\n",
    "sns.kdeplot(apartment, shade = True, color = \"b\")\n",
    "sns.kdeplot(store, shade = True, color = \"g\")\n",
    "sns.kdeplot(house, shade = True, color = \"c\")"
   ]
  },
  {
   "cell_type": "markdown",
   "metadata": {},
   "source": [
    "## EDA - Missing Data\n",
    "\n",
    "Un análisis que es importante realizar es la presencia de datos faltantes que tiene el dataset.\n",
    "A simple vista se ve que muchas de las variables numércias tienen varios valores faltantes, es necesario identificar que % de la data representa y si sería posible tomar una decisión de imputación.\n",
    "\n",
    "Viendo los resultados mostrados en el gráfico, se puede observar que hay algunas variables con un importante % de valore faltantes (superiores al 50% de los datos - \"floor\", \"expensas\", \"rooms\"). En principio generar algún método de imputación parece ser muy complejo. Contamos tanto con la descripción de la publicación y con el título de la misma, por lo que se podría implementar un método regex para extraer estos datos\n",
    "\n",
    "Con el resto de las variables numéricas podría intentar realziarse una imputación:\n",
    "1. lon, lat: en estas variables no tiene tanto sentido ya que dependen mucho de la ubicación del inmueble y solo contambos con el barrio/ciudad. En caso de querer imputarlas podrían manejarse dos opciones\n",
    "        1.a. poner la lon, lat que sale del barrio en Google Maps\n",
    "        1.b. buscar en las descripciones los nombres de las calles o la dirección y con API de GoogleMaps extraer lon, lat\n",
    "        1.c. utilizar el dato de geonames para extraer la lat-lon y en los casos que falta completar con el promedio del barrio\n",
    "2. price_USD_per_m2: esto no es más que un cálculo en base a otras variables que también tienen datos faltantes, de ser posible estimar las anteriores de podría completar en su totalidad\n",
    "3. El resto de las variables con algunos de los mecanismos de imputación podrían resolverse"
   ]
  },
  {
   "cell_type": "code",
   "execution_count": 22,
   "metadata": {},
   "outputs": [
    {
     "data": {
      "text/plain": [
       "(array([ 0,  1,  2,  3,  4,  5,  6,  7,  8,  9, 10, 11, 12, 13, 14, 15, 16,\n",
       "        17, 18, 19, 20, 21]),\n",
       " [Text(0, 0, 'floor'),\n",
       "  Text(0, 1, 'expenses'),\n",
       "  Text(0, 2, 'rooms'),\n",
       "  Text(0, 3, 'price_usd_per_m2'),\n",
       "  Text(0, 4, 'lat'),\n",
       "  Text(0, 5, 'lon'),\n",
       "  Text(0, 6, 'surface_total_in_m2'),\n",
       "  Text(0, 7, 'price_per_m2'),\n",
       "  Text(0, 8, 'price_aprox_local_currency'),\n",
       "  Text(0, 9, 'currency'),\n",
       "  Text(0, 10, 'price_aprox_usd'),\n",
       "  Text(0, 11, 'price'),\n",
       "  Text(0, 12, 'surface_covered_in_m2'),\n",
       "  Text(0, 13, 'geonames_id'),\n",
       "  Text(0, 14, 'place_name'),\n",
       "  Text(0, 15, 'country_name'),\n",
       "  Text(0, 16, 'property_type'),\n",
       "  Text(0, 17, 'title'),\n",
       "  Text(0, 18, 'state_name'),\n",
       "  Text(0, 19, 'description'),\n",
       "  Text(0, 20, 'properati_url'),\n",
       "  Text(0, 21, 'operation')])"
      ]
     },
     "execution_count": 22,
     "metadata": {},
     "output_type": "execute_result"
    },
    {
     "data": {
      "image/png": "[encoded data removed]",
      "text/plain": [
       "<Figure size 432x288 with 1 Axes>"
      ]
     },
     "metadata": {
      "needs_background": "light"
     },
     "output_type": "display_data"
    }
   ],
   "source": [
    "missing_data = data_caba.isnull().sum(axis = 0) / data_caba.shape[0]\n",
    "missing_data.sort_values(inplace = True, ascending = False)\n",
    "miss = missing_data\n",
    "\n",
    "g = sns.barplot(y = miss.index, x = miss)\n",
    "plt.yticks(rotation = 45)"
   ]
  },
  {
   "cell_type": "code",
   "execution_count": 23,
   "metadata": {},
   "outputs": [
    {
     "data": {
      "text/plain": [
       "floor                         0.906888\n",
       "expenses                      0.796014\n",
       "rooms                         0.525777\n",
       "price_usd_per_m2              0.284905\n",
       "lat                           0.264451\n",
       "lon                           0.264451\n",
       "surface_total_in_m2           0.181953\n",
       "price_per_m2                  0.154475\n",
       "price_aprox_local_currency    0.102055\n",
       "currency                      0.102055\n",
       "price_aprox_usd               0.102055\n",
       "price                         0.102055\n",
       "surface_covered_in_m2         0.072410\n",
       "geonames_id                   0.039795\n",
       "place_name                    0.000000\n",
       "country_name                  0.000000\n",
       "property_type                 0.000000\n",
       "title                         0.000000\n",
       "state_name                    0.000000\n",
       "description                   0.000000\n",
       "properati_url                 0.000000\n",
       "operation                     0.000000\n",
       "dtype: float64"
      ]
     },
     "execution_count": 23,
     "metadata": {},
     "output_type": "execute_result"
    }
   ],
   "source": [
    "miss"
   ]
  },
  {
   "cell_type": "markdown",
   "metadata": {},
   "source": [
    "En lineas generales Capital Federal y Bs.As. G.B.A. Zona Norte son las dos regiones que tienen menor cantidad de datos faltantes en cada una de las categorías de datos más importnates (precio, superficie, ambientes)"
   ]
  },
  {
   "cell_type": "code",
   "execution_count": 24,
   "metadata": {},
   "outputs": [
    {
     "data": {
      "text/plain": [
       "Santiago Del Estero         0.000000\n",
       "Bs.As. G.B.A. Zona Norte    0.069327\n",
       "Capital Federal             0.072379\n",
       "Corrientes                  0.125214\n",
       "Bs.As. G.B.A. Zona Oeste    0.148251\n",
       "Name: porcentaje_null, dtype: float64"
      ]
     },
     "execution_count": 24,
     "metadata": {},
     "output_type": "execute_result"
    }
   ],
   "source": [
    "a = data.surface_covered_in_m2.isnull().groupby(data['state_name']).sum().sort_values(ascending = False)\n",
    "b = pd.merge(a, data.state_name.value_counts(), left_index=True, right_index = True)\n",
    "b[\"porcentaje_null\"] = b.surface_covered_in_m2/b.state_name\n",
    "b.porcentaje_null.sort_values().head()"
   ]
  },
  {
   "cell_type": "markdown",
   "metadata": {},
   "source": [
    "## Adaptación de nombres\n",
    "\n",
    "Para poder manejarnos más facil vamos a adaptar los nombres de las columnas"
   ]
  },
  {
   "cell_type": "code",
   "execution_count": 25,
   "metadata": {},
   "outputs": [
    {
     "data": {
      "text/plain": [
       "Index(['operacion', 'tipo_prop', 'barrio', 'pais', 'provincia', 'geoname',\n",
       "       'lat', 'lon', 'precio', 'moneda', 'precio_pesos', 'precio_usd',\n",
       "       'sup_total', 'sup_cubierta', 'precio_usd_m2', 'precio_m2', 'piso',\n",
       "       'ambientes', 'expensas', 'properati_url', 'descripcion', 'titulo'],\n",
       "      dtype='object')"
      ]
     },
     "execution_count": 25,
     "metadata": {},
     "output_type": "execute_result"
    }
   ],
   "source": [
    "data_caba.columns\n",
    "data_caba.columns = ['operacion', 'tipo_prop', 'barrio', 'pais', 'provincia', 'geoname', 'lat', 'lon', \n",
    "                 'precio', 'moneda', 'precio_pesos', 'precio_usd', 'sup_total', 'sup_cubierta', 'precio_usd_m2', 'precio_m2',\n",
    "                'piso', 'ambientes', 'expensas','properati_url', 'descripcion', 'titulo']\n",
    "\n",
    "data_caba.columns"
   ]
  },
  {
   "cell_type": "markdown",
   "metadata": {},
   "source": [
    "## Análisis del contenido de descripción y título"
   ]
  },
  {
   "cell_type": "markdown",
   "metadata": {},
   "source": [
    "### Ambientes"
   ]
  },
  {
   "cell_type": "code",
   "execution_count": 26,
   "metadata": {},
   "outputs": [
    {
     "data": {
      "text/plain": [
       "0         2.0\n",
       "2         2.0\n",
       "3         3.0\n",
       "7         1.0\n",
       "8         NaN\n",
       "         ... \n",
       "121160    NaN\n",
       "121209    NaN\n",
       "121215    NaN\n",
       "121217    1.0\n",
       "121219    NaN\n",
       "Name: ambientes, Length: 32316, dtype: float64"
      ]
     },
     "execution_count": 26,
     "metadata": {},
     "output_type": "execute_result"
    }
   ],
   "source": [
    "# Con el metodo extract se puede ubicar el primer elemento de la cadena de texto que cumple la condición planteada\n",
    "# En algunos casos, en la descripción aparecen menciones amuchos tipos de dptos ya que suelen ser desarrollos inmobiliarios\n",
    "# Por eso priorizamos el dato que viene del titulo y si este no tiene, completamos con el primer dato de la descripcion\n",
    "\n",
    "a = data_caba.descripcion.str.extract(\"(?P<amb>\\d{1,2})\\s*amb|(?P<mono>mono)\\S*amb\", flags = re.IGNORECASE)\n",
    "\n",
    "a['mono'] = a.mono.replace(re.compile(\"mono\", flags = re.IGNORECASE), \"1\")\n",
    "\n",
    "a['ambientes'] = a.amb.fillna(a.mono).astype(float)\n",
    "\n",
    "\n",
    "\n",
    "b = data_caba.descripcion.str.extract(\"(?P<amb>\\d{1,2})\\s*amb|(?P<mono>mono)\\S*amb\", flags = re.IGNORECASE)\n",
    "\n",
    "b['mono'] = b.mono.replace(re.compile(\"mono\", flags = re.IGNORECASE), \"1\")\n",
    "\n",
    "b['ambientes'] = b.amb.fillna(b.mono).astype(float)\n",
    "\n",
    "\n",
    "\n",
    "ambientes = b.ambientes.fillna(a.ambientes)\n",
    "\n",
    "ambientes"
   ]
  },
  {
   "cell_type": "code",
   "execution_count": 27,
   "metadata": {},
   "outputs": [
    {
     "name": "stdout",
     "output_type": "stream",
     "text": [
      "7604\n"
     ]
    },
    {
     "data": {
      "text/html": [
       "<div>\n",
       "<style scoped>\n",
       "    .dataframe tbody tr th:only-of-type {\n",
       "        vertical-align: middle;\n",
       "    }\n",
       "\n",
       "    .dataframe tbody tr th {\n",
       "        vertical-align: top;\n",
       "    }\n",
       "\n",
       "    .dataframe thead th {\n",
       "        text-align: right;\n",
       "    }\n",
       "</style>\n",
       "<table border=\"1\" class=\"dataframe\">\n",
       "  <thead>\n",
       "    <tr style=\"text-align: right;\">\n",
       "      <th></th>\n",
       "      <th>ambientes</th>\n",
       "      <th>ambientes_nuevo</th>\n",
       "      <th>ambientes2</th>\n",
       "    </tr>\n",
       "  </thead>\n",
       "  <tbody>\n",
       "    <tr>\n",
       "      <th>49194</th>\n",
       "      <td>3.0</td>\n",
       "      <td>NaN</td>\n",
       "      <td>3.0</td>\n",
       "    </tr>\n",
       "    <tr>\n",
       "      <th>79146</th>\n",
       "      <td>NaN</td>\n",
       "      <td>1.0</td>\n",
       "      <td>1.0</td>\n",
       "    </tr>\n",
       "    <tr>\n",
       "      <th>74484</th>\n",
       "      <td>NaN</td>\n",
       "      <td>3.0</td>\n",
       "      <td>3.0</td>\n",
       "    </tr>\n",
       "    <tr>\n",
       "      <th>75277</th>\n",
       "      <td>NaN</td>\n",
       "      <td>NaN</td>\n",
       "      <td>NaN</td>\n",
       "    </tr>\n",
       "    <tr>\n",
       "      <th>93407</th>\n",
       "      <td>NaN</td>\n",
       "      <td>4.0</td>\n",
       "      <td>4.0</td>\n",
       "    </tr>\n",
       "    <tr>\n",
       "      <th>25337</th>\n",
       "      <td>2.0</td>\n",
       "      <td>2.0</td>\n",
       "      <td>2.0</td>\n",
       "    </tr>\n",
       "    <tr>\n",
       "      <th>112230</th>\n",
       "      <td>NaN</td>\n",
       "      <td>NaN</td>\n",
       "      <td>NaN</td>\n",
       "    </tr>\n",
       "    <tr>\n",
       "      <th>69149</th>\n",
       "      <td>NaN</td>\n",
       "      <td>2.0</td>\n",
       "      <td>2.0</td>\n",
       "    </tr>\n",
       "    <tr>\n",
       "      <th>14009</th>\n",
       "      <td>NaN</td>\n",
       "      <td>NaN</td>\n",
       "      <td>NaN</td>\n",
       "    </tr>\n",
       "    <tr>\n",
       "      <th>73609</th>\n",
       "      <td>NaN</td>\n",
       "      <td>2.0</td>\n",
       "      <td>2.0</td>\n",
       "    </tr>\n",
       "  </tbody>\n",
       "</table>\n",
       "</div>"
      ],
      "text/plain": [
       "        ambientes  ambientes_nuevo  ambientes2\n",
       "49194         3.0              NaN         3.0\n",
       "79146         NaN              1.0         1.0\n",
       "74484         NaN              3.0         3.0\n",
       "75277         NaN              NaN         NaN\n",
       "93407         NaN              4.0         4.0\n",
       "25337         2.0              2.0         2.0\n",
       "112230        NaN              NaN         NaN\n",
       "69149         NaN              2.0         2.0\n",
       "14009         NaN              NaN         NaN\n",
       "73609         NaN              2.0         2.0"
      ]
     },
     "execution_count": 27,
     "metadata": {},
     "output_type": "execute_result"
    }
   ],
   "source": [
    "data_ambientes = data_caba.join(ambientes, rsuffix=\"_nuevo\")\n",
    "\n",
    "data_ambientes['ambientes2'] = data_ambientes.ambientes_nuevo.fillna(data_ambientes.ambientes)\n",
    "print(data_ambientes.ambientes2.isnull().sum())\n",
    "data_ambientes.loc[:,['ambientes', 'ambientes_nuevo', 'ambientes2']].sample(10)"
   ]
  },
  {
   "cell_type": "code",
   "execution_count": 28,
   "metadata": {},
   "outputs": [],
   "source": [
    "data = data_ambientes.drop(['ambientes', 'ambientes_nuevo'], axis = 1)\n",
    "data = data.rename(columns = {'ambientes2': 'ambientes'})"
   ]
  },
  {
   "cell_type": "markdown",
   "metadata": {},
   "source": [
    "### Piso del dpto"
   ]
  },
  {
   "cell_type": "code",
   "execution_count": 29,
   "metadata": {},
   "outputs": [
    {
     "data": {
      "text/plain": [
       "2     4050\n",
       "3     1676\n",
       "1     1372\n",
       "4      908\n",
       "0      616\n",
       "      ... \n",
       "88       1\n",
       "59       1\n",
       "46       1\n",
       "68       1\n",
       "89       1\n",
       "Name: piso, Length: 103, dtype: int64"
      ]
     },
     "execution_count": 29,
     "metadata": {},
     "output_type": "execute_result"
    }
   ],
   "source": [
    "pisos = data.descripcion.str.extract(\"(\\d)\\s*er|(\\d{1,2})\\s*\\wo|(\\d)°|\\s+(PB)\\s+|(\\w{5,10})\\s+piso\", flags = re.IGNORECASE)\n",
    "\n",
    "pisos.iloc[:,3].value_counts()\n",
    "\n",
    "pisos.iloc[:,3] = pisos.iloc[:,3].apply(lambda x: x if x is np.NaN else \"0\")\n",
    "\n",
    "pisos.iloc[:,3].value_counts()\n",
    "\n",
    "pisos['piso'] = pisos.iloc[:,0].fillna(pisos.iloc[:,1])\n",
    "pisos['piso'] = pisos.piso.fillna(pisos.iloc[:,2])\n",
    "pisos['piso'] = pisos.piso.fillna(pisos.iloc[:,3])\n",
    "\n",
    "pisos.piso.value_counts()"
   ]
  },
  {
   "cell_type": "code",
   "execution_count": 30,
   "metadata": {},
   "outputs": [
    {
     "name": "stderr",
     "output_type": "stream",
     "text": [
      "C:\\Users\\franf\\anaconda3\\envs\\dhdsblend_37\\lib\\site-packages\\ipykernel_launcher.py:4: DeprecationWarning: The default dtype for empty Series will be 'object' instead of 'float64' in a future version. Specify a dtype explicitly to silence this warning.\n",
      "  after removing the cwd from sys.path.\n"
     ]
    }
   ],
   "source": [
    "indice = ['primer', 'segundo', ' tercer', 'cuarto', 'quinto', 'sexto', 'ptimo', 'octavo', 'noveno']\n",
    "numero = [1,2,3,4,5,6,7,8,9]\n",
    "\n",
    "c = pd.Series()\n",
    "\n",
    "for pis,numero in zip(indice,numero):\n",
    "    a = pisos.iloc[:,4].str.contains(pis, flags = re.IGNORECASE)\n",
    "    b = a.apply(lambda x: numero if x is True else np.NaN)\n",
    "    c = c.fillna(b)\n",
    "\n",
    "pisos['piso'] = pisos.piso.fillna(c)\n",
    "pisos['piso'] = pisos.piso.astype(float)"
   ]
  },
  {
   "cell_type": "code",
   "execution_count": 31,
   "metadata": {},
   "outputs": [
    {
     "data": {
      "text/plain": [
       "<AxesSubplot:xlabel='piso'>"
      ]
     },
     "execution_count": 31,
     "metadata": {},
     "output_type": "execute_result"
    },
    {
     "data": {
      "image/png": "[encoded data removed]",
      "text/plain": [
       "<Figure size 432x288 with 1 Axes>"
      ]
     },
     "metadata": {
      "needs_background": "light"
     },
     "output_type": "display_data"
    }
   ],
   "source": [
    "sns.distplot(pisos.piso)"
   ]
  },
  {
   "cell_type": "code",
   "execution_count": 32,
   "metadata": {},
   "outputs": [],
   "source": [
    "data['piso'] = data.piso.fillna(pisos.piso)"
   ]
  },
  {
   "cell_type": "markdown",
   "metadata": {},
   "source": [
    "### Precios en USD"
   ]
  },
  {
   "cell_type": "code",
   "execution_count": 33,
   "metadata": {},
   "outputs": [
    {
     "name": "stderr",
     "output_type": "stream",
     "text": [
      "C:\\Users\\franf\\anaconda3\\envs\\dhdsblend_37\\lib\\site-packages\\ipykernel_launcher.py:9: SettingWithCopyWarning: \n",
      "A value is trying to be set on a copy of a slice from a DataFrame\n",
      "\n",
      "See the caveats in the documentation: https://pandas.pydata.org/pandas-docs/stable/user_guide/indexing.html#returning-a-view-versus-a-copy\n",
      "  if __name__ == '__main__':\n"
     ]
    },
    {
     "data": {
      "text/plain": [
       "3329"
      ]
     },
     "execution_count": 33,
     "metadata": {},
     "output_type": "execute_result"
    }
   ],
   "source": [
    "mascara = (data.precio_usd < 75000) & ((data.precio < 1000000) | (data.precio_usd_m2 < 1000))\n",
    "\n",
    "a = data[mascara].precio\n",
    "b = data[[not x for x in mascara]].precio_usd\n",
    "a = a.append(b)\n",
    "\n",
    "data['precio_usd'] = a\n",
    "\n",
    "data['precio_usd'][data.precio_usd < 30000] = np.NaN\n",
    "\n",
    "data.precio_usd.isnull().sum()"
   ]
  },
  {
   "cell_type": "code",
   "execution_count": 35,
   "metadata": {},
   "outputs": [
    {
     "data": {
      "text/plain": [
       "108       170000\n",
       "110       490000\n",
       "115       440000\n",
       "119       320000\n",
       "120       178000\n",
       "           ...  \n",
       "119384    160000\n",
       "119386    160000\n",
       "119388    160000\n",
       "119389    160000\n",
       "119390    160000\n",
       "Name: titulo, Length: 1133, dtype: int32"
      ]
     },
     "execution_count": 35,
     "metadata": {},
     "output_type": "execute_result"
    }
   ],
   "source": [
    "#Extraccion desde Title\n",
    "desc5 = re.compile(\"\\s*(?P<preciousd>(U\\$D\\s*\\d*([.]\\d*){1,2})|(U\\$S\\s*\\d*([.]\\d*){1,2}))\" , flags =  re.IGNORECASE)\n",
    "usd_title_s = data.titulo.apply(lambda x:  re.search(desc5, x))\n",
    "usd_title = usd_title_s.apply(lambda x: x if x is None else x.group(\"preciousd\"))\n",
    "\n",
    "\n",
    "desc6 = re.compile(\"\\d*[.]\\d*\")\n",
    "p_usd2a = usd_title.apply(lambda x: np.NaN if x is None  else re.search(desc6, x)[0])\n",
    "p_usd2 = p_usd2a.apply(lambda x: x if x is np.NaN else re.sub(\"[.]\", \"\", x))\n",
    "p_usd2 = p_usd2[p_usd2.notna()].astype(int)\n",
    "\n",
    "\n",
    "p_usd2"
   ]
  },
  {
   "cell_type": "code",
   "execution_count": 36,
   "metadata": {},
   "outputs": [
    {
     "data": {
      "text/plain": [
       "3211"
      ]
     },
     "execution_count": 36,
     "metadata": {},
     "output_type": "execute_result"
    }
   ],
   "source": [
    "#Extraccion desde Descripcion\n",
    "desc7 = re.compile(\"\\s*(?P<preciousd>(U\\$D\\s*\\d*([.]\\d*){1,2})|(U\\$S\\s*\\d*([.]\\d*){1,2}))\" , flags =  re.IGNORECASE)\n",
    "usd_desc_s = data.descripcion.apply(lambda x: re.search(desc7, x))\n",
    "usd_desc = usd_desc_s.apply(lambda x: x if x is None else x.group(\"preciousd\"))\n",
    "\n",
    "\n",
    "desc8 = re.compile(\"\\d*[.]\\d*\")\n",
    "p_usd1a = usd_desc.apply(lambda x: np.NaN if x is None  else re.search(desc8, x)[0])\n",
    "p_usd1 = p_usd1a.apply(lambda x: x if x is np.NaN else re.sub(\"[.]\", \"\", x))\n",
    "\n",
    "\n",
    "p_usd = p_usd1.fillna(p_usd2)\n",
    "\n",
    "\n",
    "p_usd.notnull().sum()"
   ]
  },
  {
   "cell_type": "code",
   "execution_count": 37,
   "metadata": {},
   "outputs": [
    {
     "data": {
      "text/plain": [
       "0        NaN\n",
       "2        NaN\n",
       "3        NaN\n",
       "7        NaN\n",
       "8        NaN\n",
       "          ..\n",
       "121160   NaN\n",
       "121209   NaN\n",
       "121215   NaN\n",
       "121217   NaN\n",
       "121219   NaN\n",
       "Name: descripcion, Length: 32316, dtype: float64"
      ]
     },
     "execution_count": 37,
     "metadata": {},
     "output_type": "execute_result"
    }
   ],
   "source": [
    "p_usd = pd.to_numeric(p_usd, errors= 'coerce')\n",
    "p_usd"
   ]
  },
  {
   "cell_type": "code",
   "execution_count": 38,
   "metadata": {},
   "outputs": [],
   "source": [
    "data['precio_usd'] = data.precio_usd.fillna(p_usd)"
   ]
  },
  {
   "cell_type": "markdown",
   "metadata": {},
   "source": [
    "## ¿Qué pasa con las variables numéricas?\n",
    "\n",
    "Aca hay algunas variables basntante importantes para predecir el precio (suponiendo que ese es el objetivo final). Tomamos una serie de decisiones:\n",
    "1. Se ve que cuando una propiedad no tiene datos en la columna \"precio\", tampoco presenta ningún dato relacionado con el mismo. En este caso se deberá analizar la imputación para los casos que tengan algún dato de superficie (total o cubierta) en base al barrio, el tipo de propiedad y el precio_promedio_barrio_propiedad\n",
    "\n",
    "2. La columna de \"precio_m2\" lo unico que mira es el precio publicado dividido por la sup cubierta (precio/sup_cubierta). Esto no es muy consistente ya que mezcla tipos de monedas. De ser posible lo ideal va a ser eliminarla\n",
    "\n",
    "3. Dentro de la parte que hace referenia a la superficie de las propiedades, hay mucha info faltante referida tanto a la superficie total como a la cubierta. Generalemnte la relación entre ambas tiene que ver con el tipo de propiedad y la zona (los dptos en Recoleta no suelen tener balcones y x lo tanto la sup total es parecida a la cubierta, mientras que un PH en Villa Urquiza puede tener un patio más grande). Imputamos el dato que falta (sea el total o el cubierto) en base a lo anterior\n"
   ]
  },
  {
   "cell_type": "markdown",
   "metadata": {},
   "source": [
    "### 1. Precios - Conversión USD/$\n",
    "\n",
    "Se puede tomar como TC promedio 17,76 ya que es el valor que se usa en todo el dataset"
   ]
  },
  {
   "cell_type": "code",
   "execution_count": 40,
   "metadata": {},
   "outputs": [
    {
     "data": {
      "text/plain": [
       "<AxesSubplot:xlabel='TC'>"
      ]
     },
     "execution_count": 40,
     "metadata": {},
     "output_type": "execute_result"
    },
    {
     "data": {
      "image/png": "[encoded data removed]",
      "text/plain": [
       "<Figure size 432x288 with 1 Axes>"
      ]
     },
     "metadata": {
      "needs_background": "light"
     },
     "output_type": "display_data"
    }
   ],
   "source": [
    "data['TC'] = data.precio_pesos / data.precio_usd\n",
    "\n",
    "data.loc[:,['precio', 'precio_usd', 'precio_pesos', 'TC']].describe()\n",
    "\n",
    "sns.distplot(data['TC'], kde= False)"
   ]
  },
  {
   "cell_type": "code",
   "execution_count": 41,
   "metadata": {},
   "outputs": [
    {
     "name": "stdout",
     "output_type": "stream",
     "text": [
      "2933\n",
      "3298\n"
     ]
    }
   ],
   "source": [
    "# Todos los valores que no tienen precio, tampoco tienen ningun dato en las columnas de precio y precio_usd, salvo en los casos que logramos imputar\n",
    "\n",
    "print(data[(data.precio.isnull()) & (data.precio_usd.isnull())].shape[0])\n",
    "print(data[data.precio.isnull()].shape[0])"
   ]
  },
  {
   "cell_type": "markdown",
   "metadata": {},
   "source": [
    "### 2. Lat y lon"
   ]
  },
  {
   "cell_type": "code",
   "execution_count": 42,
   "metadata": {},
   "outputs": [],
   "source": [
    "# importamos el achivo\n",
    "data_location = \"AR.txt\"\n",
    "datageo = pd.read_csv(data_location,  sep='\\t', header= None)\n",
    "\n",
    "datageo = datageo.loc[:,[0,4,5]]\n",
    "\n",
    "datageo.columns = ['geonameid', 'latitude', 'longitude']\n",
    "\n",
    "datageo['geonameid'] = datageo.geonameid.astype(float)"
   ]
  },
  {
   "cell_type": "code",
   "execution_count": 43,
   "metadata": {},
   "outputs": [],
   "source": [
    "data = pd.merge(data, datageo, how = \"left\", left_on = \"geoname\", right_on = \"geonameid\")\n",
    "\n",
    "data['lat'] = data[\"lat\"].fillna(data.latitude) \n",
    "data['lon'] = data[\"lon\"].fillna(data.longitude)"
   ]
  },
  {
   "cell_type": "code",
   "execution_count": 44,
   "metadata": {},
   "outputs": [],
   "source": [
    "# Completamos con el promedio de cada barrio. Otra opción podría haber sido utilziar el baricentro del barrio, pero no tenía ganas de buscarlo\n",
    "\n",
    "lat_prom = data.groupby('barrio')['lat'].transform(lambda x: x.mean())\n",
    "lon_prom = data.groupby('barrio')['lon'].transform(lambda x: x.mean())\n",
    "\n",
    "data['lat'] = data.lat.fillna(lat_prom)\n",
    "data['lon'] = data.lon.fillna(lon_prom)"
   ]
  },
  {
   "cell_type": "markdown",
   "metadata": {},
   "source": [
    "### 3. Análisis sobre la superficie de los inmuebles"
   ]
  },
  {
   "cell_type": "code",
   "execution_count": 45,
   "metadata": {},
   "outputs": [
    {
     "data": {
      "text/html": [
       "<div>\n",
       "<style scoped>\n",
       "    .dataframe tbody tr th:only-of-type {\n",
       "        vertical-align: middle;\n",
       "    }\n",
       "\n",
       "    .dataframe tbody tr th {\n",
       "        vertical-align: top;\n",
       "    }\n",
       "\n",
       "    .dataframe thead th {\n",
       "        text-align: right;\n",
       "    }\n",
       "</style>\n",
       "<table border=\"1\" class=\"dataframe\">\n",
       "  <thead>\n",
       "    <tr style=\"text-align: right;\">\n",
       "      <th></th>\n",
       "      <th>lat</th>\n",
       "      <th>lon</th>\n",
       "      <th>precio</th>\n",
       "      <th>moneda</th>\n",
       "      <th>precio_pesos</th>\n",
       "      <th>precio_usd</th>\n",
       "      <th>sup_total</th>\n",
       "      <th>sup_cubierta</th>\n",
       "      <th>precio_usd_m2</th>\n",
       "      <th>precio_m2</th>\n",
       "      <th>piso</th>\n",
       "      <th>expensas</th>\n",
       "      <th>properati_url</th>\n",
       "      <th>descripcion</th>\n",
       "      <th>titulo</th>\n",
       "      <th>ambientes</th>\n",
       "      <th>TC</th>\n",
       "      <th>geonameid</th>\n",
       "      <th>latitude</th>\n",
       "      <th>longitude</th>\n",
       "    </tr>\n",
       "  </thead>\n",
       "  <tbody>\n",
       "    <tr>\n",
       "      <th>3612</th>\n",
       "      <td>-34.622640</td>\n",
       "      <td>-58.441040</td>\n",
       "      <td>98000.0</td>\n",
       "      <td>USD</td>\n",
       "      <td>1729161.0</td>\n",
       "      <td>98000.0</td>\n",
       "      <td>32.0</td>\n",
       "      <td>NaN</td>\n",
       "      <td>3062.500000</td>\n",
       "      <td>NaN</td>\n",
       "      <td>10.0</td>\n",
       "      <td>NaN</td>\n",
       "      <td>http://www.properati.com.ar/16xq3_venta_depart...</td>\n",
       "      <td>Caballito, excelente zona. Edificio construido...</td>\n",
       "      <td>Departamento 32m² con Plantas en Alberdi, Juan...</td>\n",
       "      <td>1.0</td>\n",
       "      <td>17.6445</td>\n",
       "      <td>3435874.0</td>\n",
       "      <td>-34.62264</td>\n",
       "      <td>-58.44104</td>\n",
       "    </tr>\n",
       "    <tr>\n",
       "      <th>3949</th>\n",
       "      <td>-34.639363</td>\n",
       "      <td>-58.505593</td>\n",
       "      <td>NaN</td>\n",
       "      <td>NaN</td>\n",
       "      <td>NaN</td>\n",
       "      <td>NaN</td>\n",
       "      <td>NaN</td>\n",
       "      <td>NaN</td>\n",
       "      <td>NaN</td>\n",
       "      <td>NaN</td>\n",
       "      <td>NaN</td>\n",
       "      <td>NaN</td>\n",
       "      <td>http://www.properati.com.ar/171oz_venta_depart...</td>\n",
       "      <td>CODIGO: 1019-V309 ubicado en: RAMON L FALCON 5...</td>\n",
       "      <td>2 AMBIENTES AL FRENTE , SOBRE BOULEVARD RAMON ...</td>\n",
       "      <td>2.0</td>\n",
       "      <td>NaN</td>\n",
       "      <td>3427407.0</td>\n",
       "      <td>-34.63814</td>\n",
       "      <td>-58.50273</td>\n",
       "    </tr>\n",
       "    <tr>\n",
       "      <th>17982</th>\n",
       "      <td>-34.642868</td>\n",
       "      <td>-58.437660</td>\n",
       "      <td>NaN</td>\n",
       "      <td>NaN</td>\n",
       "      <td>NaN</td>\n",
       "      <td>NaN</td>\n",
       "      <td>115.0</td>\n",
       "      <td>NaN</td>\n",
       "      <td>NaN</td>\n",
       "      <td>NaN</td>\n",
       "      <td>NaN</td>\n",
       "      <td>NaN</td>\n",
       "      <td>http://www.properati.com.ar/1ahf5_venta_depart...</td>\n",
       "      <td>AVISO LEGAL: Las descripciones arquitectónicas...</td>\n",
       "      <td>Departamento en P.Chacabuco</td>\n",
       "      <td>NaN</td>\n",
       "      <td>NaN</td>\n",
       "      <td>3433955.0</td>\n",
       "      <td>-34.60000</td>\n",
       "      <td>-58.45000</td>\n",
       "    </tr>\n",
       "    <tr>\n",
       "      <th>29498</th>\n",
       "      <td>-34.587950</td>\n",
       "      <td>-58.395243</td>\n",
       "      <td>88000.0</td>\n",
       "      <td>USD</td>\n",
       "      <td>1552716.0</td>\n",
       "      <td>88000.0</td>\n",
       "      <td>26.0</td>\n",
       "      <td>NaN</td>\n",
       "      <td>3384.615385</td>\n",
       "      <td>NaN</td>\n",
       "      <td>NaN</td>\n",
       "      <td>1100.0</td>\n",
       "      <td>http://www.properati.com.ar/1c6vw_venta_depart...</td>\n",
       "      <td>Barrio Norte RECOLETA A Mts.Avenida Pueyrredon...</td>\n",
       "      <td>Departamento - Recoleta</td>\n",
       "      <td>1.0</td>\n",
       "      <td>17.6445</td>\n",
       "      <td>3429595.0</td>\n",
       "      <td>-34.58870</td>\n",
       "      <td>-58.39723</td>\n",
       "    </tr>\n",
       "    <tr>\n",
       "      <th>30695</th>\n",
       "      <td>-34.549550</td>\n",
       "      <td>-58.466840</td>\n",
       "      <td>292000.0</td>\n",
       "      <td>USD</td>\n",
       "      <td>5152194.0</td>\n",
       "      <td>292000.0</td>\n",
       "      <td>110.0</td>\n",
       "      <td>NaN</td>\n",
       "      <td>2654.545455</td>\n",
       "      <td>NaN</td>\n",
       "      <td>NaN</td>\n",
       "      <td>NaN</td>\n",
       "      <td>http://www.properati.com.ar/1cdoo_venta_depart...</td>\n",
       "      <td>En una ubicación privi...</td>\n",
       "      <td>Departamento - Nuñez</td>\n",
       "      <td>NaN</td>\n",
       "      <td>17.6445</td>\n",
       "      <td>3430348.0</td>\n",
       "      <td>-34.54955</td>\n",
       "      <td>-58.46684</td>\n",
       "    </tr>\n",
       "    <tr>\n",
       "      <th>18137</th>\n",
       "      <td>-34.549550</td>\n",
       "      <td>-58.466840</td>\n",
       "      <td>2000000.0</td>\n",
       "      <td>USD</td>\n",
       "      <td>35289000.0</td>\n",
       "      <td>2000000.0</td>\n",
       "      <td>296.0</td>\n",
       "      <td>NaN</td>\n",
       "      <td>6756.756757</td>\n",
       "      <td>NaN</td>\n",
       "      <td>4.0</td>\n",
       "      <td>30000.0</td>\n",
       "      <td>http://www.properati.com.ar/1aih4_venta_depart...</td>\n",
       "      <td>Torre Chateau Libertador, 4  dormitorios en su...</td>\n",
       "      <td>VENTA ESQUINERO UNICO EN TORRE CHATEAU LIBERTADOR</td>\n",
       "      <td>NaN</td>\n",
       "      <td>17.6445</td>\n",
       "      <td>3430348.0</td>\n",
       "      <td>-34.54955</td>\n",
       "      <td>-58.46684</td>\n",
       "    </tr>\n",
       "    <tr>\n",
       "      <th>13314</th>\n",
       "      <td>-34.600000</td>\n",
       "      <td>-58.450000</td>\n",
       "      <td>130000.0</td>\n",
       "      <td>USD</td>\n",
       "      <td>2293785.0</td>\n",
       "      <td>130000.0</td>\n",
       "      <td>NaN</td>\n",
       "      <td>NaN</td>\n",
       "      <td>NaN</td>\n",
       "      <td>NaN</td>\n",
       "      <td>3.0</td>\n",
       "      <td>NaN</td>\n",
       "      <td>http://www.properati.com.ar/19e98_venta_depart...</td>\n",
       "      <td>Ref.: 64Se vende departamento en la Cuidad de ...</td>\n",
       "      <td>Se vende departamento en la Cuidad de Azul</td>\n",
       "      <td>NaN</td>\n",
       "      <td>17.6445</td>\n",
       "      <td>3433955.0</td>\n",
       "      <td>-34.60000</td>\n",
       "      <td>-58.45000</td>\n",
       "    </tr>\n",
       "    <tr>\n",
       "      <th>26682</th>\n",
       "      <td>-34.642703</td>\n",
       "      <td>-58.511789</td>\n",
       "      <td>135000.0</td>\n",
       "      <td>USD</td>\n",
       "      <td>2382007.5</td>\n",
       "      <td>135000.0</td>\n",
       "      <td>70.0</td>\n",
       "      <td>NaN</td>\n",
       "      <td>1928.571429</td>\n",
       "      <td>NaN</td>\n",
       "      <td>NaN</td>\n",
       "      <td>NaN</td>\n",
       "      <td>http://www.properati.com.ar/1bleb_venta_depart...</td>\n",
       "      <td>Departamento 70m² con Cloaca en Fonrouge 400, ...</td>\n",
       "      <td>Departamento en Liniers</td>\n",
       "      <td>NaN</td>\n",
       "      <td>17.6445</td>\n",
       "      <td>3431333.0</td>\n",
       "      <td>-34.64286</td>\n",
       "      <td>-58.52386</td>\n",
       "    </tr>\n",
       "    <tr>\n",
       "      <th>29562</th>\n",
       "      <td>-34.611017</td>\n",
       "      <td>-58.401453</td>\n",
       "      <td>120000.0</td>\n",
       "      <td>USD</td>\n",
       "      <td>2117340.0</td>\n",
       "      <td>120000.0</td>\n",
       "      <td>66.0</td>\n",
       "      <td>NaN</td>\n",
       "      <td>1818.181818</td>\n",
       "      <td>NaN</td>\n",
       "      <td>2.0</td>\n",
       "      <td>NaN</td>\n",
       "      <td>http://www.properati.com.ar/1c764_venta_ph_bal...</td>\n",
       "      <td>Excelente PH 2 ambientes SIN EXPENSAS , con 2 ...</td>\n",
       "      <td>Balvanera - PH SIN EXPENSAS 2 ambientes en venta</td>\n",
       "      <td>2.0</td>\n",
       "      <td>17.6445</td>\n",
       "      <td>6693228.0</td>\n",
       "      <td>-34.61032</td>\n",
       "      <td>-58.39766</td>\n",
       "    </tr>\n",
       "    <tr>\n",
       "      <th>31384</th>\n",
       "      <td>-34.562700</td>\n",
       "      <td>-58.458290</td>\n",
       "      <td>95000.0</td>\n",
       "      <td>USD</td>\n",
       "      <td>1676227.5</td>\n",
       "      <td>95000.0</td>\n",
       "      <td>NaN</td>\n",
       "      <td>NaN</td>\n",
       "      <td>NaN</td>\n",
       "      <td>NaN</td>\n",
       "      <td>NaN</td>\n",
       "      <td>NaN</td>\n",
       "      <td>http://www.properati.com.ar/1cg5l_venta_depart...</td>\n",
       "      <td>Departamento, Capital Federal, Belgrano, por U...</td>\n",
       "      <td>Departamento - Belgrano</td>\n",
       "      <td>NaN</td>\n",
       "      <td>17.6445</td>\n",
       "      <td>3436077.0</td>\n",
       "      <td>-34.56270</td>\n",
       "      <td>-58.45829</td>\n",
       "    </tr>\n",
       "  </tbody>\n",
       "</table>\n",
       "</div>"
      ],
      "text/plain": [
       "             lat        lon     precio moneda  precio_pesos  precio_usd  \\\n",
       "3612  -34.622640 -58.441040    98000.0    USD     1729161.0     98000.0   \n",
       "3949  -34.639363 -58.505593        NaN    NaN           NaN         NaN   \n",
       "17982 -34.642868 -58.437660        NaN    NaN           NaN         NaN   \n",
       "29498 -34.587950 -58.395243    88000.0    USD     1552716.0     88000.0   \n",
       "30695 -34.549550 -58.466840   292000.0    USD     5152194.0    292000.0   \n",
       "18137 -34.549550 -58.466840  2000000.0    USD    35289000.0   2000000.0   \n",
       "13314 -34.600000 -58.450000   130000.0    USD     2293785.0    130000.0   \n",
       "26682 -34.642703 -58.511789   135000.0    USD     2382007.5    135000.0   \n",
       "29562 -34.611017 -58.401453   120000.0    USD     2117340.0    120000.0   \n",
       "31384 -34.562700 -58.458290    95000.0    USD     1676227.5     95000.0   \n",
       "\n",
       "       sup_total  sup_cubierta  precio_usd_m2  precio_m2  piso  expensas  \\\n",
       "3612        32.0           NaN    3062.500000        NaN  10.0       NaN   \n",
       "3949         NaN           NaN            NaN        NaN   NaN       NaN   \n",
       "17982      115.0           NaN            NaN        NaN   NaN       NaN   \n",
       "29498       26.0           NaN    3384.615385        NaN   NaN    1100.0   \n",
       "30695      110.0           NaN    2654.545455        NaN   NaN       NaN   \n",
       "18137      296.0           NaN    6756.756757        NaN   4.0   30000.0   \n",
       "13314        NaN           NaN            NaN        NaN   3.0       NaN   \n",
       "26682       70.0           NaN    1928.571429        NaN   NaN       NaN   \n",
       "29562       66.0           NaN    1818.181818        NaN   2.0       NaN   \n",
       "31384        NaN           NaN            NaN        NaN   NaN       NaN   \n",
       "\n",
       "                                           properati_url  \\\n",
       "3612   http://www.properati.com.ar/16xq3_venta_depart...   \n",
       "3949   http://www.properati.com.ar/171oz_venta_depart...   \n",
       "17982  http://www.properati.com.ar/1ahf5_venta_depart...   \n",
       "29498  http://www.properati.com.ar/1c6vw_venta_depart...   \n",
       "30695  http://www.properati.com.ar/1cdoo_venta_depart...   \n",
       "18137  http://www.properati.com.ar/1aih4_venta_depart...   \n",
       "13314  http://www.properati.com.ar/19e98_venta_depart...   \n",
       "26682  http://www.properati.com.ar/1bleb_venta_depart...   \n",
       "29562  http://www.properati.com.ar/1c764_venta_ph_bal...   \n",
       "31384  http://www.properati.com.ar/1cg5l_venta_depart...   \n",
       "\n",
       "                                             descripcion  \\\n",
       "3612   Caballito, excelente zona. Edificio construido...   \n",
       "3949   CODIGO: 1019-V309 ubicado en: RAMON L FALCON 5...   \n",
       "17982  AVISO LEGAL: Las descripciones arquitectónicas...   \n",
       "29498  Barrio Norte RECOLETA A Mts.Avenida Pueyrredon...   \n",
       "30695                          En una ubicación privi...   \n",
       "18137  Torre Chateau Libertador, 4  dormitorios en su...   \n",
       "13314  Ref.: 64Se vende departamento en la Cuidad de ...   \n",
       "26682  Departamento 70m² con Cloaca en Fonrouge 400, ...   \n",
       "29562  Excelente PH 2 ambientes SIN EXPENSAS , con 2 ...   \n",
       "31384  Departamento, Capital Federal, Belgrano, por U...   \n",
       "\n",
       "                                                  titulo  ambientes       TC  \\\n",
       "3612   Departamento 32m² con Plantas en Alberdi, Juan...        1.0  17.6445   \n",
       "3949   2 AMBIENTES AL FRENTE , SOBRE BOULEVARD RAMON ...        2.0      NaN   \n",
       "17982                        Departamento en P.Chacabuco        NaN      NaN   \n",
       "29498                            Departamento - Recoleta        1.0  17.6445   \n",
       "30695                               Departamento - Nuñez        NaN  17.6445   \n",
       "18137  VENTA ESQUINERO UNICO EN TORRE CHATEAU LIBERTADOR        NaN  17.6445   \n",
       "13314         Se vende departamento en la Cuidad de Azul        NaN  17.6445   \n",
       "26682                            Departamento en Liniers        NaN  17.6445   \n",
       "29562   Balvanera - PH SIN EXPENSAS 2 ambientes en venta        2.0  17.6445   \n",
       "31384                            Departamento - Belgrano        NaN  17.6445   \n",
       "\n",
       "       geonameid  latitude  longitude  \n",
       "3612   3435874.0 -34.62264  -58.44104  \n",
       "3949   3427407.0 -34.63814  -58.50273  \n",
       "17982  3433955.0 -34.60000  -58.45000  \n",
       "29498  3429595.0 -34.58870  -58.39723  \n",
       "30695  3430348.0 -34.54955  -58.46684  \n",
       "18137  3430348.0 -34.54955  -58.46684  \n",
       "13314  3433955.0 -34.60000  -58.45000  \n",
       "26682  3431333.0 -34.64286  -58.52386  \n",
       "29562  6693228.0 -34.61032  -58.39766  \n",
       "31384  3436077.0 -34.56270  -58.45829  "
      ]
     },
     "execution_count": 45,
     "metadata": {},
     "output_type": "execute_result"
    },
    {
     "data": {
      "image/png": "[encoded data removed]",
      "text/plain": [
       "<Figure size 432x288 with 1 Axes>"
      ]
     },
     "metadata": {
      "needs_background": "light"
     },
     "output_type": "display_data"
    }
   ],
   "source": [
    "miss = data[data.sup_cubierta.isnull()].isnull().sum() / data[data.sup_cubierta.isnull()].shape[0]\n",
    "miss.sort_values(ascending=False, inplace = True)\n",
    "\n",
    "sns.barplot(y = miss.index, x= miss)\n",
    "\n",
    "data[data.sup_cubierta.isnull()].sample(10).iloc[:,6:]"
   ]
  },
  {
   "cell_type": "code",
   "execution_count": 46,
   "metadata": {},
   "outputs": [
    {
     "name": "stdout",
     "output_type": "stream",
     "text": [
      "792\n",
      "788\n"
     ]
    },
    {
     "data": {
      "text/html": [
       "<div>\n",
       "<style scoped>\n",
       "    .dataframe tbody tr th:only-of-type {\n",
       "        vertical-align: middle;\n",
       "    }\n",
       "\n",
       "    .dataframe tbody tr th {\n",
       "        vertical-align: top;\n",
       "    }\n",
       "\n",
       "    .dataframe thead th {\n",
       "        text-align: right;\n",
       "    }\n",
       "</style>\n",
       "<table border=\"1\" class=\"dataframe\">\n",
       "  <thead>\n",
       "    <tr style=\"text-align: right;\">\n",
       "      <th></th>\n",
       "      <th>tipo_prop</th>\n",
       "      <th>barrio</th>\n",
       "      <th>sup_total</th>\n",
       "      <th>sup_cubierta</th>\n",
       "      <th>sup_total_2</th>\n",
       "      <th>sup_cubierta_2</th>\n",
       "    </tr>\n",
       "  </thead>\n",
       "  <tbody>\n",
       "    <tr>\n",
       "      <th>0</th>\n",
       "      <td>PH</td>\n",
       "      <td>Mataderos</td>\n",
       "      <td>55.0</td>\n",
       "      <td>40.0</td>\n",
       "      <td>55.0</td>\n",
       "      <td>40.000000</td>\n",
       "    </tr>\n",
       "    <tr>\n",
       "      <th>1</th>\n",
       "      <td>apartment</td>\n",
       "      <td>Mataderos</td>\n",
       "      <td>55.0</td>\n",
       "      <td>55.0</td>\n",
       "      <td>55.0</td>\n",
       "      <td>55.000000</td>\n",
       "    </tr>\n",
       "    <tr>\n",
       "      <th>2</th>\n",
       "      <td>PH</td>\n",
       "      <td>Liniers</td>\n",
       "      <td>NaN</td>\n",
       "      <td>NaN</td>\n",
       "      <td>NaN</td>\n",
       "      <td>NaN</td>\n",
       "    </tr>\n",
       "    <tr>\n",
       "      <th>3</th>\n",
       "      <td>apartment</td>\n",
       "      <td>Belgrano</td>\n",
       "      <td>45.0</td>\n",
       "      <td>40.0</td>\n",
       "      <td>45.0</td>\n",
       "      <td>40.000000</td>\n",
       "    </tr>\n",
       "    <tr>\n",
       "      <th>4</th>\n",
       "      <td>apartment</td>\n",
       "      <td>Belgrano</td>\n",
       "      <td>65.0</td>\n",
       "      <td>60.0</td>\n",
       "      <td>65.0</td>\n",
       "      <td>60.000000</td>\n",
       "    </tr>\n",
       "    <tr>\n",
       "      <th>...</th>\n",
       "      <td>...</td>\n",
       "      <td>...</td>\n",
       "      <td>...</td>\n",
       "      <td>...</td>\n",
       "      <td>...</td>\n",
       "      <td>...</td>\n",
       "    </tr>\n",
       "    <tr>\n",
       "      <th>32311</th>\n",
       "      <td>apartment</td>\n",
       "      <td>Belgrano</td>\n",
       "      <td>157.0</td>\n",
       "      <td>NaN</td>\n",
       "      <td>157.0</td>\n",
       "      <td>137.749789</td>\n",
       "    </tr>\n",
       "    <tr>\n",
       "      <th>32312</th>\n",
       "      <td>apartment</td>\n",
       "      <td>Belgrano</td>\n",
       "      <td>157.0</td>\n",
       "      <td>NaN</td>\n",
       "      <td>157.0</td>\n",
       "      <td>137.749789</td>\n",
       "    </tr>\n",
       "    <tr>\n",
       "      <th>32313</th>\n",
       "      <td>apartment</td>\n",
       "      <td>Belgrano</td>\n",
       "      <td>113.0</td>\n",
       "      <td>93.0</td>\n",
       "      <td>113.0</td>\n",
       "      <td>93.000000</td>\n",
       "    </tr>\n",
       "    <tr>\n",
       "      <th>32314</th>\n",
       "      <td>apartment</td>\n",
       "      <td>Villa Urquiza</td>\n",
       "      <td>46.0</td>\n",
       "      <td>39.0</td>\n",
       "      <td>46.0</td>\n",
       "      <td>39.000000</td>\n",
       "    </tr>\n",
       "    <tr>\n",
       "      <th>32315</th>\n",
       "      <td>apartment</td>\n",
       "      <td>Capital Federal</td>\n",
       "      <td>77.0</td>\n",
       "      <td>77.0</td>\n",
       "      <td>77.0</td>\n",
       "      <td>77.000000</td>\n",
       "    </tr>\n",
       "  </tbody>\n",
       "</table>\n",
       "<p>32316 rows × 6 columns</p>\n",
       "</div>"
      ],
      "text/plain": [
       "       tipo_prop           barrio  sup_total  sup_cubierta  sup_total_2  \\\n",
       "0             PH        Mataderos       55.0          40.0         55.0   \n",
       "1      apartment        Mataderos       55.0          55.0         55.0   \n",
       "2             PH          Liniers        NaN           NaN          NaN   \n",
       "3      apartment         Belgrano       45.0          40.0         45.0   \n",
       "4      apartment         Belgrano       65.0          60.0         65.0   \n",
       "...          ...              ...        ...           ...          ...   \n",
       "32311  apartment         Belgrano      157.0           NaN        157.0   \n",
       "32312  apartment         Belgrano      157.0           NaN        157.0   \n",
       "32313  apartment         Belgrano      113.0          93.0        113.0   \n",
       "32314  apartment    Villa Urquiza       46.0          39.0         46.0   \n",
       "32315  apartment  Capital Federal       77.0          77.0         77.0   \n",
       "\n",
       "       sup_cubierta_2  \n",
       "0           40.000000  \n",
       "1           55.000000  \n",
       "2                 NaN  \n",
       "3           40.000000  \n",
       "4           60.000000  \n",
       "...               ...  \n",
       "32311      137.749789  \n",
       "32312      137.749789  \n",
       "32313       93.000000  \n",
       "32314       39.000000  \n",
       "32315       77.000000  \n",
       "\n",
       "[32316 rows x 6 columns]"
      ]
     },
     "execution_count": 46,
     "metadata": {},
     "output_type": "execute_result"
    }
   ],
   "source": [
    "data['prueba'] = data.sup_cubierta/data.sup_total\n",
    "data.groupby(['tipo_prop', 'barrio'])['sup_total'].mean()\n",
    "\n",
    "data['prueba2'] = data.groupby(['tipo_prop', 'barrio'])['prueba'].transform(lambda x: x.mean())\n",
    "data['sup_total_2'] = data.sup_total.fillna(data.sup_cubierta / data.prueba2)\n",
    "data['sup_cubierta_2'] = data.sup_cubierta.fillna(data.sup_total * data.prueba2)\n",
    "\n",
    "\n",
    "print(data.sup_total_2.isnull().sum())\n",
    "print(data.sup_cubierta_2.isnull().sum())\n",
    "data.loc[:,['tipo_prop', 'barrio', 'sup_total', 'sup_cubierta', 'sup_total_2', 'sup_cubierta_2']]"
   ]
  },
  {
   "cell_type": "code",
   "execution_count": 47,
   "metadata": {},
   "outputs": [],
   "source": [
    "data = data.drop(['sup_total', 'sup_cubierta'], axis = 1)\n",
    "data = data.rename({'sup_total_2': 'sup_total', 'sup_cubierta_2': 'sup_cubierta'}, axis = 1)"
   ]
  },
  {
   "cell_type": "markdown",
   "metadata": {},
   "source": [
    "### 4. Análisis sobre los precio por m2"
   ]
  },
  {
   "cell_type": "code",
   "execution_count": 48,
   "metadata": {},
   "outputs": [],
   "source": [
    "data['precio_x_m2_usd'] = data.precio_usd / data.sup_total"
   ]
  },
  {
   "cell_type": "code",
   "execution_count": 49,
   "metadata": {},
   "outputs": [],
   "source": [
    "data['precio_usd'] = data.precio_usd.fillna(data.sup_total * data.precio_x_m2_usd)"
   ]
  },
  {
   "cell_type": "markdown",
   "metadata": {},
   "source": [
    "### 5. Dataset limpio"
   ]
  },
  {
   "cell_type": "code",
   "execution_count": 50,
   "metadata": {},
   "outputs": [],
   "source": [
    "data.columns\n",
    "\n",
    "data = data.drop(['operacion', 'provincia', 'geoname', 'precio', 'moneda', 'precio_pesos', \n",
    "           'precio_usd_m2', 'precio_m2', 'expensas', 'descripcion', 'titulo', 'TC', \n",
    "           'prueba', 'prueba2', 'geonameid', 'latitude', 'longitude'], axis = 1)"
   ]
  },
  {
   "cell_type": "code",
   "execution_count": 51,
   "metadata": {},
   "outputs": [
    {
     "data": {
      "text/html": [
       "<div>\n",
       "<style scoped>\n",
       "    .dataframe tbody tr th:only-of-type {\n",
       "        vertical-align: middle;\n",
       "    }\n",
       "\n",
       "    .dataframe tbody tr th {\n",
       "        vertical-align: top;\n",
       "    }\n",
       "\n",
       "    .dataframe thead th {\n",
       "        text-align: right;\n",
       "    }\n",
       "</style>\n",
       "<table border=\"1\" class=\"dataframe\">\n",
       "  <thead>\n",
       "    <tr style=\"text-align: right;\">\n",
       "      <th></th>\n",
       "      <th>tipo_prop</th>\n",
       "      <th>barrio</th>\n",
       "      <th>pais</th>\n",
       "      <th>lat</th>\n",
       "      <th>lon</th>\n",
       "      <th>precio_usd</th>\n",
       "      <th>piso</th>\n",
       "      <th>properati_url</th>\n",
       "      <th>ambientes</th>\n",
       "      <th>sup_total</th>\n",
       "      <th>sup_cubierta</th>\n",
       "      <th>precio_x_m2_usd</th>\n",
       "    </tr>\n",
       "  </thead>\n",
       "  <tbody>\n",
       "    <tr>\n",
       "      <th>25198</th>\n",
       "      <td>apartment</td>\n",
       "      <td>Almagro</td>\n",
       "      <td>Argentina</td>\n",
       "      <td>-34.609667</td>\n",
       "      <td>-58.41854</td>\n",
       "      <td>118000.0</td>\n",
       "      <td>NaN</td>\n",
       "      <td>http://www.properati.com.ar/1bbpn_venta_depart...</td>\n",
       "      <td>2.0</td>\n",
       "      <td>58.0</td>\n",
       "      <td>52.109884</td>\n",
       "      <td>2034.482759</td>\n",
       "    </tr>\n",
       "    <tr>\n",
       "      <th>30696</th>\n",
       "      <td>apartment</td>\n",
       "      <td>Nuñez</td>\n",
       "      <td>Argentina</td>\n",
       "      <td>-34.549550</td>\n",
       "      <td>-58.46684</td>\n",
       "      <td>159000.0</td>\n",
       "      <td>NaN</td>\n",
       "      <td>http://www.properati.com.ar/1cdop_venta_depart...</td>\n",
       "      <td>NaN</td>\n",
       "      <td>57.0</td>\n",
       "      <td>51.000000</td>\n",
       "      <td>2789.473684</td>\n",
       "    </tr>\n",
       "    <tr>\n",
       "      <th>19780</th>\n",
       "      <td>apartment</td>\n",
       "      <td>Capital Federal</td>\n",
       "      <td>Argentina</td>\n",
       "      <td>-34.600000</td>\n",
       "      <td>-58.45000</td>\n",
       "      <td>1000960.0</td>\n",
       "      <td>NaN</td>\n",
       "      <td>http://www.properati.com.ar/1aof7_venta_depart...</td>\n",
       "      <td>NaN</td>\n",
       "      <td>156.0</td>\n",
       "      <td>146.000000</td>\n",
       "      <td>6416.410256</td>\n",
       "    </tr>\n",
       "  </tbody>\n",
       "</table>\n",
       "</div>"
      ],
      "text/plain": [
       "       tipo_prop           barrio       pais        lat       lon  precio_usd  \\\n",
       "25198  apartment          Almagro  Argentina -34.609667 -58.41854    118000.0   \n",
       "30696  apartment            Nuñez  Argentina -34.549550 -58.46684    159000.0   \n",
       "19780  apartment  Capital Federal  Argentina -34.600000 -58.45000   1000960.0   \n",
       "\n",
       "       piso                                      properati_url  ambientes  \\\n",
       "25198   NaN  http://www.properati.com.ar/1bbpn_venta_depart...        2.0   \n",
       "30696   NaN  http://www.properati.com.ar/1cdop_venta_depart...        NaN   \n",
       "19780   NaN  http://www.properati.com.ar/1aof7_venta_depart...        NaN   \n",
       "\n",
       "       sup_total  sup_cubierta  precio_x_m2_usd  \n",
       "25198       58.0     52.109884      2034.482759  \n",
       "30696       57.0     51.000000      2789.473684  \n",
       "19780      156.0    146.000000      6416.410256  "
      ]
     },
     "execution_count": 51,
     "metadata": {},
     "output_type": "execute_result"
    }
   ],
   "source": [
    "data.sample(3)"
   ]
  },
  {
   "cell_type": "markdown",
   "metadata": {},
   "source": [
    "# ANEXO I: Imputer from sklearn library\n",
    "\n",
    "Funciona bien para algunas variables que son numéricas. Es neceasrio pasar todos lso datos categóricos a numéricos para que los tome"
   ]
  },
  {
   "cell_type": "code",
   "execution_count": null,
   "metadata": {},
   "outputs": [],
   "source": [
    "data['tipo_prop'] = data.tipo_prop.astype('category')\n",
    "data['barrio'] = data.barrio.astype('category')\n",
    "data['moneda'] = data.moneda.astype('category')\n",
    "\n",
    "probamos = data.drop(['operacion', 'pais', 'descripcion', 'titulo', 'provicnia'], axis = 1)\n",
    "\n",
    "probamos['tipo_prop'] = probamos.tipo_prop.cat.codes\n",
    "probamos['barrio'] = probamos.barrio.cat.codes\n",
    "probamos['moneda'] = probamos.moneda.cat.codes"
   ]
  },
  {
   "cell_type": "code",
   "execution_count": null,
   "metadata": {},
   "outputs": [],
   "source": [
    "from sklearn.experimental import enable_iterative_imputer\n",
    "from sklearn.impute import IterativeImputer\n",
    "\n",
    "imp = IterativeImputer(max_iter=50, random_state=0)\n",
    "\n",
    "imp.fit(probamos)\n",
    "\n",
    "veamos = pd.DataFrame(imp.transform(probamos))\n",
    "\n",
    "veamos.columns = probamos.columns\n",
    "veamos.index = probamos.index\n",
    "veamos['barrio'] = data.barrio\n",
    "veamos['moneda'] = data.moneda\n",
    "veamos['tipo_prop'] = data.tipo_prop\n",
    "veamos"
   ]
  },
  {
   "cell_type": "markdown",
   "metadata": {},
   "source": [
    "## ANEXO II: Incorporar data de transporte público"
   ]
  },
  {
   "cell_type": "code",
   "execution_count": 52,
   "metadata": {},
   "outputs": [
    {
     "data": {
      "text/html": [
       "<div>\n",
       "<style scoped>\n",
       "    .dataframe tbody tr th:only-of-type {\n",
       "        vertical-align: middle;\n",
       "    }\n",
       "\n",
       "    .dataframe tbody tr th {\n",
       "        vertical-align: top;\n",
       "    }\n",
       "\n",
       "    .dataframe thead th {\n",
       "        text-align: right;\n",
       "    }\n",
       "</style>\n",
       "<table border=\"1\" class=\"dataframe\">\n",
       "  <thead>\n",
       "    <tr style=\"text-align: right;\">\n",
       "      <th></th>\n",
       "      <th>long</th>\n",
       "      <th>lat</th>\n",
       "      <th>id</th>\n",
       "      <th>estacion</th>\n",
       "      <th>linea</th>\n",
       "    </tr>\n",
       "  </thead>\n",
       "  <tbody>\n",
       "    <tr>\n",
       "      <th>0</th>\n",
       "      <td>-58.398928</td>\n",
       "      <td>-34.635750</td>\n",
       "      <td>1.0</td>\n",
       "      <td>CASEROS</td>\n",
       "      <td>H</td>\n",
       "    </tr>\n",
       "    <tr>\n",
       "      <th>1</th>\n",
       "      <td>-58.400970</td>\n",
       "      <td>-34.629376</td>\n",
       "      <td>2.0</td>\n",
       "      <td>INCLAN - MEZQUITA AL AHMAD</td>\n",
       "      <td>H</td>\n",
       "    </tr>\n",
       "  </tbody>\n",
       "</table>\n",
       "</div>"
      ],
      "text/plain": [
       "        long        lat   id                    estacion linea\n",
       "0 -58.398928 -34.635750  1.0                     CASEROS     H\n",
       "1 -58.400970 -34.629376  2.0  INCLAN - MEZQUITA AL AHMAD     H"
      ]
     },
     "execution_count": 52,
     "metadata": {},
     "output_type": "execute_result"
    }
   ],
   "source": [
    "subte = pd.read_csv('estaciones-de-subte.csv')\n",
    "subte.head(2)"
   ]
  },
  {
   "cell_type": "code",
   "execution_count": 53,
   "metadata": {},
   "outputs": [],
   "source": [
    "lista = []\n",
    "\n",
    "for i in data.index:\n",
    "    \n",
    "    dist_lat = (subte.lat - data.lat[i]) * 111000\n",
    "    dist_lon = (subte.long - data.lon[i]) * 111000\n",
    "    norma = (dist_lat ** 2 + dist_lon ** 2) ** (1/2)\n",
    "    \n",
    "    cantidad_subte = len(norma[norma < 500])\n",
    "    \n",
    "    lista.append(cantidad_subte)\n",
    "\n",
    "cantidad_subte = pd.Series(lista, index = data.index, name = 'subtes')\n",
    "\n",
    "data = data.join(cantidad_subte)"
   ]
  },
  {
   "cell_type": "code",
   "execution_count": 54,
   "metadata": {},
   "outputs": [
    {
     "data": {
      "text/html": [
       "<div>\n",
       "<style scoped>\n",
       "    .dataframe tbody tr th:only-of-type {\n",
       "        vertical-align: middle;\n",
       "    }\n",
       "\n",
       "    .dataframe tbody tr th {\n",
       "        vertical-align: top;\n",
       "    }\n",
       "\n",
       "    .dataframe thead th {\n",
       "        text-align: right;\n",
       "    }\n",
       "</style>\n",
       "<table border=\"1\" class=\"dataframe\">\n",
       "  <thead>\n",
       "    <tr style=\"text-align: right;\">\n",
       "      <th></th>\n",
       "      <th>id_estacion</th>\n",
       "      <th>nombre_estacion</th>\n",
       "      <th>long_estacion</th>\n",
       "      <th>lat_estacion</th>\n",
       "      <th>domicilio_estacion</th>\n",
       "      <th>tipo_estacion</th>\n",
       "      <th>observaciones</th>\n",
       "      <th>horario_estacion</th>\n",
       "    </tr>\n",
       "  </thead>\n",
       "  <tbody>\n",
       "    <tr>\n",
       "      <th>0</th>\n",
       "      <td>1.0</td>\n",
       "      <td>Facultad de Derecho</td>\n",
       "      <td>-58.392452</td>\n",
       "      <td>-34.583133</td>\n",
       "      <td>Av. Pres.Figueroa Alcorta y  Juan A.Bibiloni</td>\n",
       "      <td>AUTOMÁTICA</td>\n",
       "      <td>Abril 2015 (pasó de ser Manual a Automática)</td>\n",
       "      <td>Estación automática: disponibilidad las 24 horas</td>\n",
       "    </tr>\n",
       "    <tr>\n",
       "      <th>1</th>\n",
       "      <td>2.0</td>\n",
       "      <td>Retiro</td>\n",
       "      <td>-58.374822</td>\n",
       "      <td>-34.592589</td>\n",
       "      <td>Av. Dr.Jose Ramos Mejia y Del Libertador Av</td>\n",
       "      <td>AUTOMÁTICA</td>\n",
       "      <td>Abril 2015 (pasó de ser Manual a Automática)</td>\n",
       "      <td>Estación automática: disponibilidad las 24 horas</td>\n",
       "    </tr>\n",
       "  </tbody>\n",
       "</table>\n",
       "</div>"
      ],
      "text/plain": [
       "   id_estacion      nombre_estacion  long_estacion  lat_estacion  \\\n",
       "0          1.0  Facultad de Derecho     -58.392452    -34.583133   \n",
       "1          2.0               Retiro     -58.374822    -34.592589   \n",
       "\n",
       "                             domicilio_estacion tipo_estacion  \\\n",
       "0  Av. Pres.Figueroa Alcorta y  Juan A.Bibiloni    AUTOMÁTICA   \n",
       "1   Av. Dr.Jose Ramos Mejia y Del Libertador Av    AUTOMÁTICA   \n",
       "\n",
       "                                  observaciones  \\\n",
       "0  Abril 2015 (pasó de ser Manual a Automática)   \n",
       "1  Abril 2015 (pasó de ser Manual a Automática)   \n",
       "\n",
       "                                   horario_estacion  \n",
       "0  Estación automática: disponibilidad las 24 horas  \n",
       "1  Estación automática: disponibilidad las 24 horas  "
      ]
     },
     "execution_count": 54,
     "metadata": {},
     "output_type": "execute_result"
    }
   ],
   "source": [
    "bicis = pd.read_csv('estaciones_sistema_viejo.csv')\n",
    "bicis.head(2)"
   ]
  },
  {
   "cell_type": "code",
   "execution_count": 55,
   "metadata": {},
   "outputs": [],
   "source": [
    "lista = []\n",
    "\n",
    "for i in data.index:\n",
    "    \n",
    "    dist_lat = (bicis.lat_estacion - data.lat[i]) * 111000\n",
    "    dist_lon = (bicis.long_estacion - data.lon[i]) * 111000\n",
    "    norma = (dist_lat ** 2 + dist_lon ** 2) ** (1/2)\n",
    "    \n",
    "    cantidad_bicis = len(norma[norma < 500])\n",
    "    \n",
    "    lista.append(cantidad_bicis)\n",
    "\n",
    "cantidad_bicis = pd.Series(lista, index = data.index, name = 'bicis')\n",
    "\n",
    "data = data.join(cantidad_bicis)"
   ]
  },
  {
   "cell_type": "markdown",
   "metadata": {},
   "source": [
    "## ANEXO III: Incorporar data de Seguridad"
   ]
  },
  {
   "cell_type": "code",
   "execution_count": 56,
   "metadata": {},
   "outputs": [
    {
     "data": {
      "text/html": [
       "<div>\n",
       "<style scoped>\n",
       "    .dataframe tbody tr th:only-of-type {\n",
       "        vertical-align: middle;\n",
       "    }\n",
       "\n",
       "    .dataframe tbody tr th {\n",
       "        vertical-align: top;\n",
       "    }\n",
       "\n",
       "    .dataframe thead th {\n",
       "        text-align: right;\n",
       "    }\n",
       "</style>\n",
       "<table border=\"1\" class=\"dataframe\">\n",
       "  <thead>\n",
       "    <tr style=\"text-align: right;\">\n",
       "      <th></th>\n",
       "      <th>long</th>\n",
       "      <th>lat</th>\n",
       "      <th>id</th>\n",
       "      <th>nombre</th>\n",
       "      <th>calle</th>\n",
       "      <th>altura</th>\n",
       "      <th>calle2</th>\n",
       "      <th>direccion</th>\n",
       "      <th>telefonos</th>\n",
       "      <th>observaciones</th>\n",
       "      <th>observaciones_2</th>\n",
       "      <th>barrio</th>\n",
       "      <th>comuna</th>\n",
       "      <th>codigo_postal</th>\n",
       "      <th>codigo_postal_argentino</th>\n",
       "    </tr>\n",
       "  </thead>\n",
       "  <tbody>\n",
       "    <tr>\n",
       "      <th>0</th>\n",
       "      <td>-58.373245</td>\n",
       "      <td>-34.601906</td>\n",
       "      <td>1</td>\n",
       "      <td>Comisaria Vecinal 1-D</td>\n",
       "      <td>Lavalle</td>\n",
       "      <td>451</td>\n",
       "      <td>NaN</td>\n",
       "      <td>LAVALLE 451</td>\n",
       "      <td>4322-8033/8221</td>\n",
       "      <td>NaN</td>\n",
       "      <td>NaN</td>\n",
       "      <td>SAN NICOLAS</td>\n",
       "      <td>1</td>\n",
       "      <td>1047.0</td>\n",
       "      <td>C1047AAI</td>\n",
       "    </tr>\n",
       "    <tr>\n",
       "      <th>1</th>\n",
       "      <td>-58.424926</td>\n",
       "      <td>-34.628641</td>\n",
       "      <td>37</td>\n",
       "      <td>Comisaria Vecinal 5-B</td>\n",
       "      <td>Muñiz</td>\n",
       "      <td>1250</td>\n",
       "      <td>NaN</td>\n",
       "      <td>MUÑIZ 1250</td>\n",
       "      <td>4922-1229 /4922-3333</td>\n",
       "      <td>NaN</td>\n",
       "      <td>NaN</td>\n",
       "      <td>BOEDO</td>\n",
       "      <td>5</td>\n",
       "      <td>1255.0</td>\n",
       "      <td>C1255ACD</td>\n",
       "    </tr>\n",
       "  </tbody>\n",
       "</table>\n",
       "</div>"
      ],
      "text/plain": [
       "        long        lat  id                 nombre    calle  altura calle2  \\\n",
       "0 -58.373245 -34.601906   1  Comisaria Vecinal 1-D  Lavalle     451    NaN   \n",
       "1 -58.424926 -34.628641  37  Comisaria Vecinal 5-B    Muñiz    1250    NaN   \n",
       "\n",
       "     direccion             telefonos observaciones  observaciones_2  \\\n",
       "0  LAVALLE 451        4322-8033/8221           NaN              NaN   \n",
       "1   MUÑIZ 1250  4922-1229 /4922-3333           NaN              NaN   \n",
       "\n",
       "        barrio  comuna  codigo_postal codigo_postal_argentino  \n",
       "0  SAN NICOLAS       1         1047.0                C1047AAI  \n",
       "1        BOEDO       5         1255.0                C1255ACD  "
      ]
     },
     "execution_count": 56,
     "metadata": {},
     "output_type": "execute_result"
    }
   ],
   "source": [
    "comisarias = pd.read_csv('comisarias-policia-de-la-ciudad.csv')\n",
    "comisarias.head(2)"
   ]
  },
  {
   "cell_type": "code",
   "execution_count": 57,
   "metadata": {},
   "outputs": [],
   "source": [
    "lista = []\n",
    "\n",
    "for i in data.index:\n",
    "    \n",
    "    dist_lat = (comisarias.lat - data.lat[i]) * 111000\n",
    "    dist_lon = (comisarias.long - data.lon[i]) * 111000\n",
    "    norma = (dist_lat ** 2 + dist_lon ** 2) ** (1/2)\n",
    "    \n",
    "    comisaria_dist_min = min(norma)\n",
    "    \n",
    "    lista.append(comisaria_dist_min)\n",
    "\n",
    "comisaria_mas_cerca = pd.Series(lista, index = data.index, name = 'comisarias')\n",
    "\n",
    "data = data.join(comisaria_mas_cerca)"
   ]
  },
  {
   "cell_type": "markdown",
   "metadata": {},
   "source": [
    "# ¿Cómo quedó el dataset?"
   ]
  },
  {
   "cell_type": "code",
   "execution_count": 58,
   "metadata": {},
   "outputs": [
    {
     "data": {
      "text/html": [
       "<div>\n",
       "<style scoped>\n",
       "    .dataframe tbody tr th:only-of-type {\n",
       "        vertical-align: middle;\n",
       "    }\n",
       "\n",
       "    .dataframe tbody tr th {\n",
       "        vertical-align: top;\n",
       "    }\n",
       "\n",
       "    .dataframe thead th {\n",
       "        text-align: right;\n",
       "    }\n",
       "</style>\n",
       "<table border=\"1\" class=\"dataframe\">\n",
       "  <thead>\n",
       "    <tr style=\"text-align: right;\">\n",
       "      <th></th>\n",
       "      <th>tipo_prop</th>\n",
       "      <th>barrio</th>\n",
       "      <th>pais</th>\n",
       "      <th>lat</th>\n",
       "      <th>lon</th>\n",
       "      <th>precio_usd</th>\n",
       "      <th>piso</th>\n",
       "      <th>properati_url</th>\n",
       "      <th>ambientes</th>\n",
       "      <th>sup_total</th>\n",
       "      <th>sup_cubierta</th>\n",
       "      <th>precio_x_m2_usd</th>\n",
       "      <th>subtes</th>\n",
       "      <th>bicis</th>\n",
       "      <th>comisarias</th>\n",
       "    </tr>\n",
       "  </thead>\n",
       "  <tbody>\n",
       "    <tr>\n",
       "      <th>0</th>\n",
       "      <td>PH</td>\n",
       "      <td>Mataderos</td>\n",
       "      <td>Argentina</td>\n",
       "      <td>-34.661824</td>\n",
       "      <td>-58.508839</td>\n",
       "      <td>62000.0</td>\n",
       "      <td>NaN</td>\n",
       "      <td>http://www.properati.com.ar/15bo8_venta_ph_mat...</td>\n",
       "      <td>2.0</td>\n",
       "      <td>55.0</td>\n",
       "      <td>40.0</td>\n",
       "      <td>1127.272727</td>\n",
       "      <td>0</td>\n",
       "      <td>0</td>\n",
       "      <td>851.917314</td>\n",
       "    </tr>\n",
       "    <tr>\n",
       "      <th>1</th>\n",
       "      <td>apartment</td>\n",
       "      <td>Mataderos</td>\n",
       "      <td>Argentina</td>\n",
       "      <td>-34.652262</td>\n",
       "      <td>-58.522982</td>\n",
       "      <td>72000.0</td>\n",
       "      <td>3.0</td>\n",
       "      <td>http://www.properati.com.ar/15bod_venta_depart...</td>\n",
       "      <td>2.0</td>\n",
       "      <td>55.0</td>\n",
       "      <td>55.0</td>\n",
       "      <td>1309.090909</td>\n",
       "      <td>0</td>\n",
       "      <td>0</td>\n",
       "      <td>2410.061423</td>\n",
       "    </tr>\n",
       "    <tr>\n",
       "      <th>2</th>\n",
       "      <td>PH</td>\n",
       "      <td>Liniers</td>\n",
       "      <td>Argentina</td>\n",
       "      <td>-34.647797</td>\n",
       "      <td>-58.516424</td>\n",
       "      <td>95000.0</td>\n",
       "      <td>0.0</td>\n",
       "      <td>http://www.properati.com.ar/15boh_venta_ph_lin...</td>\n",
       "      <td>3.0</td>\n",
       "      <td>NaN</td>\n",
       "      <td>NaN</td>\n",
       "      <td>NaN</td>\n",
       "      <td>0</td>\n",
       "      <td>0</td>\n",
       "      <td>1529.449067</td>\n",
       "    </tr>\n",
       "  </tbody>\n",
       "</table>\n",
       "</div>"
      ],
      "text/plain": [
       "   tipo_prop     barrio       pais        lat        lon  precio_usd  piso  \\\n",
       "0         PH  Mataderos  Argentina -34.661824 -58.508839     62000.0   NaN   \n",
       "1  apartment  Mataderos  Argentina -34.652262 -58.522982     72000.0   3.0   \n",
       "2         PH    Liniers  Argentina -34.647797 -58.516424     95000.0   0.0   \n",
       "\n",
       "                                       properati_url  ambientes  sup_total  \\\n",
       "0  http://www.properati.com.ar/15bo8_venta_ph_mat...        2.0       55.0   \n",
       "1  http://www.properati.com.ar/15bod_venta_depart...        2.0       55.0   \n",
       "2  http://www.properati.com.ar/15boh_venta_ph_lin...        3.0        NaN   \n",
       "\n",
       "   sup_cubierta  precio_x_m2_usd  subtes  bicis   comisarias  \n",
       "0          40.0      1127.272727       0      0   851.917314  \n",
       "1          55.0      1309.090909       0      0  2410.061423  \n",
       "2           NaN              NaN       0      0  1529.449067  "
      ]
     },
     "execution_count": 58,
     "metadata": {},
     "output_type": "execute_result"
    }
   ],
   "source": [
    "data.head(3)"
   ]
  },
  {
   "cell_type": "code",
   "execution_count": 59,
   "metadata": {},
   "outputs": [
    {
     "data": {
      "text/plain": [
       "[(0.0, 1.0)]"
      ]
     },
     "execution_count": 59,
     "metadata": {},
     "output_type": "execute_result"
    },
    {
     "data": {
      "image/png": "[encoded data removed]",
      "text/plain": [
       "<Figure size 432x288 with 1 Axes>"
      ]
     },
     "metadata": {
      "needs_background": "light"
     },
     "output_type": "display_data"
    }
   ],
   "source": [
    "miss = data.isnull().sum(axis = 0) / data.shape[0]\n",
    "miss = miss.sort_values(ascending = False)\n",
    "\n",
    "g = sns.barplot(y = miss.index, x = miss)\n",
    "g.set(xlim = (0,1))"
   ]
  },
  {
   "cell_type": "markdown",
   "metadata": {},
   "source": [
    "# Análisis Exploratorio"
   ]
  },
  {
   "cell_type": "code",
   "execution_count": 399,
   "metadata": {},
   "outputs": [
    {
     "data": {
      "text/plain": [
       "[Text(0.5, 0, 'Subtes a menos de 500 metros'),\n",
       " Text(0, 0.5, 'Precio x M2 (USD)')]"
      ]
     },
     "execution_count": 399,
     "metadata": {},
     "output_type": "execute_result"
    },
    {
     "data": {
      "image/png": "[encoded data removed]",
      "text/plain": [
       "<Figure size 432x288 with 1 Axes>"
      ]
     },
     "metadata": {
      "needs_background": "light"
     },
     "output_type": "display_data"
    }
   ],
   "source": [
    "datin = data[((data.barrio == \"Flores\") | (data.barrio == \"Caballito\") | (data.barrio == \"Parque Chacabuco\")) & (data.precio_x_m2_usd < 15000) & (data.tipo_prop != \"store\")]\n",
    "\n",
    "a = sns.boxplot(x = 'subtes', y = 'precio_x_m2_usd', data = datin)\n",
    "a.set(xlabel = \"Subtes a menos de 500 metros\", ylabel = \"Precio x M2 (USD)\")"
   ]
  },
  {
   "cell_type": "code",
   "execution_count": 400,
   "metadata": {},
   "outputs": [
    {
     "data": {
      "text/plain": [
       "[Text(0.5, 0, 'Distancia a la comisaria más cercana'),\n",
       " Text(0, 0.5, 'Precio x M2 (USD)')]"
      ]
     },
     "execution_count": 400,
     "metadata": {},
     "output_type": "execute_result"
    },
    {
     "data": {
      "image/png": "[encoded data removed]",
      "text/plain": [
       "<Figure size 432x288 with 1 Axes>"
      ]
     },
     "metadata": {
      "needs_background": "light"
     },
     "output_type": "display_data"
    }
   ],
   "source": [
    "datin = data[(data.precio_x_m2_usd < 5000) & (data.tipo_prop != \"store\") & (data.barrio == \"Caballito\") & (data.comisarias < 2000)]\n",
    "\n",
    "a = sns.scatterplot(x = 'comisarias', y = 'precio_x_m2_usd', data = datin)\n",
    "a.set(xlabel = \"Distancia a la comisaria más cercana\", ylabel = \"Precio x M2 (USD)\")"
   ]
  },
  {
   "cell_type": "code",
   "execution_count": 401,
   "metadata": {},
   "outputs": [
    {
     "data": {
      "text/plain": [
       "barrio\n",
       "Boedo            7833.333333\n",
       "Puerto Madero    6047.065338\n",
       "Palermo Chico    4425.000000\n",
       "Las Cañitas      3337.669850\n",
       "Palermo          3180.000000\n",
       "Name: Dpto, dtype: float64"
      ]
     },
     "execution_count": 401,
     "metadata": {},
     "output_type": "execute_result"
    }
   ],
   "source": [
    "a = data[data.precio_x_m2_usd < 99999].groupby(['tipo_prop', 'barrio']).median().precio_x_m2_usd\n",
    "\n",
    "PH = a.loc['PH'].sort_values(ascending = False)[:5]\n",
    "PH.name = \"PH\"\n",
    "\n",
    "apart = a.loc['apartment'].sort_values(ascending = False)[:5]\n",
    "apart.name = \"Dpto\"\n",
    "\n",
    "store = a.loc['store'].sort_values(ascending = False)[:5]\n",
    "store.name = \"Tienda\"\n",
    "\n",
    "house = a.loc['house'].sort_values(ascending = False)[:5]\n",
    "house.name = \"Casa\"\n",
    "\n",
    "apart"
   ]
  },
  {
   "cell_type": "code",
   "execution_count": 402,
   "metadata": {},
   "outputs": [
    {
     "data": {
      "text/plain": [
       "(array([0, 1, 2, 3, 4]),\n",
       " [Text(0, 0, 'Once'),\n",
       "  Text(1, 0, 'Recoleta'),\n",
       "  Text(2, 0, 'Villa Riachuelo'),\n",
       "  Text(3, 0, 'Las Cañitas'),\n",
       "  Text(4, 0, 'Palermo Soho')])"
      ]
     },
     "execution_count": 402,
     "metadata": {},
     "output_type": "execute_result"
    },
    {
     "data": {
      "image/png": "[encoded data removed]",
      "text/plain": [
       "<Figure size 432x288 with 1 Axes>"
      ]
     },
     "metadata": {
      "needs_background": "light"
     },
     "output_type": "display_data"
    }
   ],
   "source": [
    "a = sns.barplot(x = list(PH.index)[:5], y = PH)\n",
    "a.set(ylabel = \"PH: preci x m2 (USD)\", ylim = (0, 10000))\n",
    "plt.xticks(rotation = 45)"
   ]
  },
  {
   "cell_type": "code",
   "execution_count": 403,
   "metadata": {},
   "outputs": [
    {
     "data": {
      "text/plain": [
       "(array([0, 1, 2, 3, 4]),\n",
       " [Text(0, 0, 'Boedo'),\n",
       "  Text(1, 0, 'Puerto Madero'),\n",
       "  Text(2, 0, 'Palermo Chico'),\n",
       "  Text(3, 0, 'Las Cañitas'),\n",
       "  Text(4, 0, 'Palermo')])"
      ]
     },
     "execution_count": 403,
     "metadata": {},
     "output_type": "execute_result"
    },
    {
     "data": {
      "image/png": "[encoded data removed]",
      "text/plain": [
       "<Figure size 432x288 with 1 Axes>"
      ]
     },
     "metadata": {
      "needs_background": "light"
     },
     "output_type": "display_data"
    }
   ],
   "source": [
    "a = sns.barplot(x = list(apart.index)[:5], y = apart)\n",
    "a.set(ylabel = \"DPTO: preci x m2 (USD)\", ylim = (0, 10000))\n",
    "plt.xticks(rotation = 45)"
   ]
  },
  {
   "cell_type": "code",
   "execution_count": 404,
   "metadata": {},
   "outputs": [
    {
     "data": {
      "text/plain": [
       "(array([0, 1, 2, 3, 4]),\n",
       " [Text(0, 0, 'Palermo Chico'),\n",
       "  Text(1, 0, 'Puerto Madero'),\n",
       "  Text(2, 0, 'Recoleta'),\n",
       "  Text(3, 0, 'Palermo'),\n",
       "  Text(4, 0, 'Belgrano')])"
      ]
     },
     "execution_count": 404,
     "metadata": {},
     "output_type": "execute_result"
    },
    {
     "data": {
      "image/png": "[encoded data removed]",
      "text/plain": [
       "<Figure size 432x288 with 1 Axes>"
      ]
     },
     "metadata": {
      "needs_background": "light"
     },
     "output_type": "display_data"
    }
   ],
   "source": [
    "a = sns.barplot(x = list(store.index)[:5], y = store)\n",
    "a.set(ylabel = \"TIENDA: preci x m2 (USD)\", ylim = (0, 10000))\n",
    "plt.xticks(rotation = 45)"
   ]
  },
  {
   "cell_type": "code",
   "execution_count": 405,
   "metadata": {},
   "outputs": [
    {
     "data": {
      "text/plain": [
       "(array([0, 1, 2, 3, 4]),\n",
       " [Text(0, 0, 'Palermo Chico'),\n",
       "  Text(1, 0, 'Monte Castro'),\n",
       "  Text(2, 0, 'Puerto Madero'),\n",
       "  Text(3, 0, 'Las Cañitas'),\n",
       "  Text(4, 0, 'Barrio Norte')])"
      ]
     },
     "execution_count": 405,
     "metadata": {},
     "output_type": "execute_result"
    },
    {
     "data": {
      "image/png": "[encoded data removed]",
      "text/plain": [
       "<Figure size 432x288 with 1 Axes>"
      ]
     },
     "metadata": {
      "needs_background": "light"
     },
     "output_type": "display_data"
    }
   ],
   "source": [
    "a = sns.barplot(x = list(house.index)[:5], y = house)\n",
    "a.set(ylabel = \"CASA: preci x m2 (USD)\", ylim = (0, 10000))\n",
    "plt.xticks(rotation = 45)"
   ]
  },
  {
   "cell_type": "code",
   "execution_count": 428,
   "metadata": {},
   "outputs": [
    {
     "data": {
      "text/html": [
       "<div>\n",
       "<style scoped>\n",
       "    .dataframe tbody tr th:only-of-type {\n",
       "        vertical-align: middle;\n",
       "    }\n",
       "\n",
       "    .dataframe tbody tr th {\n",
       "        vertical-align: top;\n",
       "    }\n",
       "\n",
       "    .dataframe thead th {\n",
       "        text-align: right;\n",
       "    }\n",
       "</style>\n",
       "<table border=\"1\" class=\"dataframe\">\n",
       "  <thead>\n",
       "    <tr style=\"text-align: right;\">\n",
       "      <th></th>\n",
       "      <th>barrio</th>\n",
       "      <th>comuna</th>\n",
       "      <th>perimetro</th>\n",
       "      <th>area</th>\n",
       "      <th>geometry</th>\n",
       "    </tr>\n",
       "  </thead>\n",
       "  <tbody>\n",
       "    <tr>\n",
       "      <th>0</th>\n",
       "      <td>CHACARITA</td>\n",
       "      <td>15</td>\n",
       "      <td>7724.852955</td>\n",
       "      <td>3.115707e+06</td>\n",
       "      <td>POLYGON ((-58.45282 -34.59599, -58.45366 -34.5...</td>\n",
       "    </tr>\n",
       "    <tr>\n",
       "      <th>1</th>\n",
       "      <td>PATERNAL</td>\n",
       "      <td>15</td>\n",
       "      <td>7087.513295</td>\n",
       "      <td>2.229829e+06</td>\n",
       "      <td>POLYGON ((-58.46558 -34.59656, -58.46562 -34.5...</td>\n",
       "    </tr>\n",
       "    <tr>\n",
       "      <th>2</th>\n",
       "      <td>VILLA CRESPO</td>\n",
       "      <td>15</td>\n",
       "      <td>8131.857075</td>\n",
       "      <td>3.615978e+06</td>\n",
       "      <td>POLYGON ((-58.42375 -34.59783, -58.42495 -34.5...</td>\n",
       "    </tr>\n",
       "    <tr>\n",
       "      <th>3</th>\n",
       "      <td>VILLA DEL PARQUE</td>\n",
       "      <td>11</td>\n",
       "      <td>7705.389797</td>\n",
       "      <td>3.399596e+06</td>\n",
       "      <td>POLYGON ((-58.49461 -34.61487, -58.49479 -34.6...</td>\n",
       "    </tr>\n",
       "    <tr>\n",
       "      <th>4</th>\n",
       "      <td>ALMAGRO</td>\n",
       "      <td>5</td>\n",
       "      <td>8537.901368</td>\n",
       "      <td>4.050752e+06</td>\n",
       "      <td>POLYGON ((-58.41287 -34.61412, -58.41282 -34.6...</td>\n",
       "    </tr>\n",
       "    <tr>\n",
       "      <th>5</th>\n",
       "      <td>CABALLITO</td>\n",
       "      <td>6</td>\n",
       "      <td>10990.964471</td>\n",
       "      <td>6.851029e+06</td>\n",
       "      <td>POLYGON ((-58.43061 -34.60705, -58.43056 -34.6...</td>\n",
       "    </tr>\n",
       "    <tr>\n",
       "      <th>6</th>\n",
       "      <td>VILLA SANTA RITA</td>\n",
       "      <td>11</td>\n",
       "      <td>5757.752335</td>\n",
       "      <td>2.153691e+06</td>\n",
       "      <td>POLYGON ((-58.48192 -34.62429, -58.48274 -34.6...</td>\n",
       "    </tr>\n",
       "    <tr>\n",
       "      <th>7</th>\n",
       "      <td>MONTE CASTRO</td>\n",
       "      <td>10</td>\n",
       "      <td>7361.036418</td>\n",
       "      <td>2.627481e+06</td>\n",
       "      <td>POLYGON ((-58.50349 -34.62403, -58.50467 -34.6...</td>\n",
       "    </tr>\n",
       "    <tr>\n",
       "      <th>8</th>\n",
       "      <td>VILLA REAL</td>\n",
       "      <td>10</td>\n",
       "      <td>5070.965652</td>\n",
       "      <td>1.334146e+06</td>\n",
       "      <td>POLYGON ((-58.52512 -34.61400, -58.52511 -34.6...</td>\n",
       "    </tr>\n",
       "    <tr>\n",
       "      <th>9</th>\n",
       "      <td>FLORES</td>\n",
       "      <td>7</td>\n",
       "      <td>15772.439510</td>\n",
       "      <td>8.590784e+06</td>\n",
       "      <td>POLYGON ((-58.46041 -34.65680, -58.46090 -34.6...</td>\n",
       "    </tr>\n",
       "    <tr>\n",
       "      <th>10</th>\n",
       "      <td>FLORESTA</td>\n",
       "      <td>10</td>\n",
       "      <td>7519.654092</td>\n",
       "      <td>2.320641e+06</td>\n",
       "      <td>POLYGON ((-58.48339 -34.62411, -58.48274 -34.6...</td>\n",
       "    </tr>\n",
       "    <tr>\n",
       "      <th>11</th>\n",
       "      <td>CONSTITUCION</td>\n",
       "      <td>1</td>\n",
       "      <td>6326.841375</td>\n",
       "      <td>2.101995e+06</td>\n",
       "      <td>POLYGON ((-58.37557 -34.62730, -58.37660 -34.6...</td>\n",
       "    </tr>\n",
       "    <tr>\n",
       "      <th>12</th>\n",
       "      <td>SAN CRISTOBAL</td>\n",
       "      <td>3</td>\n",
       "      <td>5987.226479</td>\n",
       "      <td>2.043711e+06</td>\n",
       "      <td>POLYGON ((-58.39155 -34.62156, -58.39149 -34.6...</td>\n",
       "    </tr>\n",
       "    <tr>\n",
       "      <th>13</th>\n",
       "      <td>BOEDO</td>\n",
       "      <td>5</td>\n",
       "      <td>6602.510266</td>\n",
       "      <td>2.609851e+06</td>\n",
       "      <td>POLYGON ((-58.41178 -34.63036, -58.41178 -34.6...</td>\n",
       "    </tr>\n",
       "    <tr>\n",
       "      <th>14</th>\n",
       "      <td>VELEZ SARSFIELD</td>\n",
       "      <td>10</td>\n",
       "      <td>7045.578332</td>\n",
       "      <td>2.400518e+06</td>\n",
       "      <td>POLYGON ((-58.48557 -34.63140, -58.48473 -34.6...</td>\n",
       "    </tr>\n",
       "    <tr>\n",
       "      <th>15</th>\n",
       "      <td>VILLA LURO</td>\n",
       "      <td>10</td>\n",
       "      <td>8652.930031</td>\n",
       "      <td>2.566937e+06</td>\n",
       "      <td>POLYGON ((-58.50154 -34.63183, -58.50104 -34.6...</td>\n",
       "    </tr>\n",
       "    <tr>\n",
       "      <th>16</th>\n",
       "      <td>PARQUE PATRICIOS</td>\n",
       "      <td>4</td>\n",
       "      <td>7878.434993</td>\n",
       "      <td>3.743440e+06</td>\n",
       "      <td>POLYGON ((-58.41037 -34.64830, -58.41210 -34.6...</td>\n",
       "    </tr>\n",
       "    <tr>\n",
       "      <th>17</th>\n",
       "      <td>MATADEROS</td>\n",
       "      <td>9</td>\n",
       "      <td>11124.635792</td>\n",
       "      <td>7.398179e+06</td>\n",
       "      <td>POLYGON ((-58.50252 -34.67451, -58.50253 -34.6...</td>\n",
       "    </tr>\n",
       "    <tr>\n",
       "      <th>18</th>\n",
       "      <td>VILLA LUGANO</td>\n",
       "      <td>8</td>\n",
       "      <td>15057.468389</td>\n",
       "      <td>9.296142e+06</td>\n",
       "      <td>POLYGON ((-58.46571 -34.65903, -58.46519 -34.6...</td>\n",
       "    </tr>\n",
       "    <tr>\n",
       "      <th>19</th>\n",
       "      <td>SAN TELMO</td>\n",
       "      <td>1</td>\n",
       "      <td>5178.032839</td>\n",
       "      <td>1.232270e+06</td>\n",
       "      <td>POLYGON ((-58.36345 -34.62512, -58.36649 -34.6...</td>\n",
       "    </tr>\n",
       "    <tr>\n",
       "      <th>20</th>\n",
       "      <td>SAAVEDRA</td>\n",
       "      <td>12</td>\n",
       "      <td>11132.139346</td>\n",
       "      <td>5.538677e+06</td>\n",
       "      <td>POLYGON ((-58.48813 -34.56129, -58.48827 -34.5...</td>\n",
       "    </tr>\n",
       "    <tr>\n",
       "      <th>21</th>\n",
       "      <td>COGHLAN</td>\n",
       "      <td>12</td>\n",
       "      <td>4627.563131</td>\n",
       "      <td>1.279951e+06</td>\n",
       "      <td>POLYGON ((-58.47242 -34.56610, -58.47296 -34.5...</td>\n",
       "    </tr>\n",
       "    <tr>\n",
       "      <th>22</th>\n",
       "      <td>VILLA URQUIZA</td>\n",
       "      <td>12</td>\n",
       "      <td>10021.459665</td>\n",
       "      <td>5.449059e+06</td>\n",
       "      <td>POLYGON ((-58.48098 -34.56264, -58.48023 -34.5...</td>\n",
       "    </tr>\n",
       "    <tr>\n",
       "      <th>23</th>\n",
       "      <td>COLEGIALES</td>\n",
       "      <td>13</td>\n",
       "      <td>6374.619045</td>\n",
       "      <td>2.289774e+06</td>\n",
       "      <td>POLYGON ((-58.44669 -34.56907, -58.44650 -34.5...</td>\n",
       "    </tr>\n",
       "    <tr>\n",
       "      <th>24</th>\n",
       "      <td>BALVANERA</td>\n",
       "      <td>3</td>\n",
       "      <td>8375.821811</td>\n",
       "      <td>4.342280e+06</td>\n",
       "      <td>POLYGON ((-58.41192 -34.59800, -58.41029 -34.5...</td>\n",
       "    </tr>\n",
       "    <tr>\n",
       "      <th>25</th>\n",
       "      <td>VILLA GRAL. MITRE</td>\n",
       "      <td>11</td>\n",
       "      <td>6290.440561</td>\n",
       "      <td>2.162275e+06</td>\n",
       "      <td>POLYGON ((-58.47140 -34.61904, -58.47162 -34.6...</td>\n",
       "    </tr>\n",
       "    <tr>\n",
       "      <th>26</th>\n",
       "      <td>PARQUE CHAS</td>\n",
       "      <td>15</td>\n",
       "      <td>4531.253396</td>\n",
       "      <td>1.385412e+06</td>\n",
       "      <td>POLYGON ((-58.47082 -34.58745, -58.47082 -34.5...</td>\n",
       "    </tr>\n",
       "    <tr>\n",
       "      <th>27</th>\n",
       "      <td>AGRONOMIA</td>\n",
       "      <td>15</td>\n",
       "      <td>6556.167772</td>\n",
       "      <td>2.122169e+06</td>\n",
       "      <td>POLYGON ((-58.47712 -34.59511, -58.47788 -34.5...</td>\n",
       "    </tr>\n",
       "    <tr>\n",
       "      <th>28</th>\n",
       "      <td>VILLA ORTUZAR</td>\n",
       "      <td>15</td>\n",
       "      <td>5684.995211</td>\n",
       "      <td>1.853802e+06</td>\n",
       "      <td>POLYGON ((-58.46055 -34.57794, -58.46022 -34.5...</td>\n",
       "    </tr>\n",
       "    <tr>\n",
       "      <th>29</th>\n",
       "      <td>BARRACAS</td>\n",
       "      <td>4</td>\n",
       "      <td>12789.791771</td>\n",
       "      <td>7.953453e+06</td>\n",
       "      <td>POLYGON ((-58.37034 -34.63293, -58.37028 -34.6...</td>\n",
       "    </tr>\n",
       "    <tr>\n",
       "      <th>30</th>\n",
       "      <td>PARQUE AVELLANEDA</td>\n",
       "      <td>9</td>\n",
       "      <td>10165.614028</td>\n",
       "      <td>4.732708e+06</td>\n",
       "      <td>POLYGON ((-58.47038 -34.63879, -58.47001 -34.6...</td>\n",
       "    </tr>\n",
       "    <tr>\n",
       "      <th>31</th>\n",
       "      <td>PARQUE CHACABUCO</td>\n",
       "      <td>7</td>\n",
       "      <td>8406.914321</td>\n",
       "      <td>3.832117e+06</td>\n",
       "      <td>POLYGON ((-58.43234 -34.64174, -58.43231 -34.6...</td>\n",
       "    </tr>\n",
       "    <tr>\n",
       "      <th>32</th>\n",
       "      <td>NUEVA POMPEYA</td>\n",
       "      <td>4</td>\n",
       "      <td>11033.510302</td>\n",
       "      <td>4.951511e+06</td>\n",
       "      <td>POLYGON ((-58.41221 -34.64813, -58.41210 -34.6...</td>\n",
       "    </tr>\n",
       "    <tr>\n",
       "      <th>33</th>\n",
       "      <td>PALERMO</td>\n",
       "      <td>14</td>\n",
       "      <td>22126.531858</td>\n",
       "      <td>1.584587e+07</td>\n",
       "      <td>POLYGON ((-58.42676 -34.55202, -58.42676 -34.5...</td>\n",
       "    </tr>\n",
       "    <tr>\n",
       "      <th>34</th>\n",
       "      <td>VILLA RIACHUELO</td>\n",
       "      <td>8</td>\n",
       "      <td>10596.826739</td>\n",
       "      <td>4.232596e+06</td>\n",
       "      <td>POLYGON ((-58.44978 -34.68061, -58.44863 -34.6...</td>\n",
       "    </tr>\n",
       "    <tr>\n",
       "      <th>35</th>\n",
       "      <td>VILLA SOLDATI</td>\n",
       "      <td>8</td>\n",
       "      <td>12441.695877</td>\n",
       "      <td>8.688164e+06</td>\n",
       "      <td>POLYGON ((-58.44913 -34.65117, -58.44883 -34.6...</td>\n",
       "    </tr>\n",
       "    <tr>\n",
       "      <th>36</th>\n",
       "      <td>VILLA PUEYRREDON</td>\n",
       "      <td>12</td>\n",
       "      <td>7522.360382</td>\n",
       "      <td>3.303240e+06</td>\n",
       "      <td>POLYGON ((-58.50331 -34.59386, -58.50347 -34.5...</td>\n",
       "    </tr>\n",
       "    <tr>\n",
       "      <th>37</th>\n",
       "      <td>VILLA DEVOTO</td>\n",
       "      <td>11</td>\n",
       "      <td>11562.006800</td>\n",
       "      <td>6.404481e+06</td>\n",
       "      <td>POLYGON ((-58.50831 -34.61392, -58.50847 -34.6...</td>\n",
       "    </tr>\n",
       "    <tr>\n",
       "      <th>38</th>\n",
       "      <td>LINIERS</td>\n",
       "      <td>9</td>\n",
       "      <td>9256.927321</td>\n",
       "      <td>4.374419e+06</td>\n",
       "      <td>POLYGON ((-58.51925 -34.63301, -58.51908 -34.6...</td>\n",
       "    </tr>\n",
       "    <tr>\n",
       "      <th>39</th>\n",
       "      <td>VERSALLES</td>\n",
       "      <td>10</td>\n",
       "      <td>5650.466286</td>\n",
       "      <td>1.406834e+06</td>\n",
       "      <td>POLYGON ((-58.51104 -34.63256, -58.51010 -34.6...</td>\n",
       "    </tr>\n",
       "    <tr>\n",
       "      <th>40</th>\n",
       "      <td>PUERTO MADERO</td>\n",
       "      <td>1</td>\n",
       "      <td>17725.720821</td>\n",
       "      <td>5.040971e+06</td>\n",
       "      <td>POLYGON ((-58.35196 -34.59817, -58.35179 -34.5...</td>\n",
       "    </tr>\n",
       "    <tr>\n",
       "      <th>41</th>\n",
       "      <td>MONSERRAT</td>\n",
       "      <td>1</td>\n",
       "      <td>6739.222311</td>\n",
       "      <td>2.198622e+06</td>\n",
       "      <td>POLYGON ((-58.36880 -34.60683, -58.36815 -34.6...</td>\n",
       "    </tr>\n",
       "    <tr>\n",
       "      <th>42</th>\n",
       "      <td>SAN NICOLAS</td>\n",
       "      <td>1</td>\n",
       "      <td>6548.084754</td>\n",
       "      <td>2.289008e+06</td>\n",
       "      <td>POLYGON ((-58.36792 -34.60517, -58.36773 -34.6...</td>\n",
       "    </tr>\n",
       "    <tr>\n",
       "      <th>43</th>\n",
       "      <td>BELGRANO</td>\n",
       "      <td>13</td>\n",
       "      <td>20609.775397</td>\n",
       "      <td>7.999240e+06</td>\n",
       "      <td>POLYGON ((-58.45057 -34.53561, -58.45066 -34.5...</td>\n",
       "    </tr>\n",
       "    <tr>\n",
       "      <th>44</th>\n",
       "      <td>RECOLETA</td>\n",
       "      <td>2</td>\n",
       "      <td>21452.838648</td>\n",
       "      <td>6.317265e+06</td>\n",
       "      <td>POLYGON ((-58.38000 -34.57002, -58.38002 -34.5...</td>\n",
       "    </tr>\n",
       "    <tr>\n",
       "      <th>45</th>\n",
       "      <td>RETIRO</td>\n",
       "      <td>1</td>\n",
       "      <td>18837.988687</td>\n",
       "      <td>4.512711e+06</td>\n",
       "      <td>POLYGON ((-58.37427 -34.57870, -58.37427 -34.5...</td>\n",
       "    </tr>\n",
       "    <tr>\n",
       "      <th>46</th>\n",
       "      <td>NUÑEZ</td>\n",
       "      <td>13</td>\n",
       "      <td>10785.261081</td>\n",
       "      <td>4.424199e+06</td>\n",
       "      <td>POLYGON ((-58.45872 -34.53721, -58.45887 -34.5...</td>\n",
       "    </tr>\n",
       "    <tr>\n",
       "      <th>47</th>\n",
       "      <td>BOCA</td>\n",
       "      <td>4</td>\n",
       "      <td>20060.003939</td>\n",
       "      <td>5.036240e+06</td>\n",
       "      <td>POLYGON ((-58.35429 -34.62977, -58.35427 -34.6...</td>\n",
       "    </tr>\n",
       "  </tbody>\n",
       "</table>\n",
       "</div>"
      ],
      "text/plain": [
       "               barrio  comuna     perimetro          area  \\\n",
       "0           CHACARITA      15   7724.852955  3.115707e+06   \n",
       "1            PATERNAL      15   7087.513295  2.229829e+06   \n",
       "2        VILLA CRESPO      15   8131.857075  3.615978e+06   \n",
       "3    VILLA DEL PARQUE      11   7705.389797  3.399596e+06   \n",
       "4             ALMAGRO       5   8537.901368  4.050752e+06   \n",
       "5           CABALLITO       6  10990.964471  6.851029e+06   \n",
       "6    VILLA SANTA RITA      11   5757.752335  2.153691e+06   \n",
       "7        MONTE CASTRO      10   7361.036418  2.627481e+06   \n",
       "8          VILLA REAL      10   5070.965652  1.334146e+06   \n",
       "9              FLORES       7  15772.439510  8.590784e+06   \n",
       "10           FLORESTA      10   7519.654092  2.320641e+06   \n",
       "11       CONSTITUCION       1   6326.841375  2.101995e+06   \n",
       "12      SAN CRISTOBAL       3   5987.226479  2.043711e+06   \n",
       "13              BOEDO       5   6602.510266  2.609851e+06   \n",
       "14    VELEZ SARSFIELD      10   7045.578332  2.400518e+06   \n",
       "15         VILLA LURO      10   8652.930031  2.566937e+06   \n",
       "16   PARQUE PATRICIOS       4   7878.434993  3.743440e+06   \n",
       "17          MATADEROS       9  11124.635792  7.398179e+06   \n",
       "18       VILLA LUGANO       8  15057.468389  9.296142e+06   \n",
       "19          SAN TELMO       1   5178.032839  1.232270e+06   \n",
       "20           SAAVEDRA      12  11132.139346  5.538677e+06   \n",
       "21            COGHLAN      12   4627.563131  1.279951e+06   \n",
       "22      VILLA URQUIZA      12  10021.459665  5.449059e+06   \n",
       "23         COLEGIALES      13   6374.619045  2.289774e+06   \n",
       "24          BALVANERA       3   8375.821811  4.342280e+06   \n",
       "25  VILLA GRAL. MITRE      11   6290.440561  2.162275e+06   \n",
       "26        PARQUE CHAS      15   4531.253396  1.385412e+06   \n",
       "27          AGRONOMIA      15   6556.167772  2.122169e+06   \n",
       "28      VILLA ORTUZAR      15   5684.995211  1.853802e+06   \n",
       "29           BARRACAS       4  12789.791771  7.953453e+06   \n",
       "30  PARQUE AVELLANEDA       9  10165.614028  4.732708e+06   \n",
       "31   PARQUE CHACABUCO       7   8406.914321  3.832117e+06   \n",
       "32      NUEVA POMPEYA       4  11033.510302  4.951511e+06   \n",
       "33            PALERMO      14  22126.531858  1.584587e+07   \n",
       "34    VILLA RIACHUELO       8  10596.826739  4.232596e+06   \n",
       "35      VILLA SOLDATI       8  12441.695877  8.688164e+06   \n",
       "36   VILLA PUEYRREDON      12   7522.360382  3.303240e+06   \n",
       "37       VILLA DEVOTO      11  11562.006800  6.404481e+06   \n",
       "38            LINIERS       9   9256.927321  4.374419e+06   \n",
       "39          VERSALLES      10   5650.466286  1.406834e+06   \n",
       "40      PUERTO MADERO       1  17725.720821  5.040971e+06   \n",
       "41          MONSERRAT       1   6739.222311  2.198622e+06   \n",
       "42        SAN NICOLAS       1   6548.084754  2.289008e+06   \n",
       "43           BELGRANO      13  20609.775397  7.999240e+06   \n",
       "44           RECOLETA       2  21452.838648  6.317265e+06   \n",
       "45             RETIRO       1  18837.988687  4.512711e+06   \n",
       "46              NUÑEZ      13  10785.261081  4.424199e+06   \n",
       "47               BOCA       4  20060.003939  5.036240e+06   \n",
       "\n",
       "                                             geometry  \n",
       "0   POLYGON ((-58.45282 -34.59599, -58.45366 -34.5...  \n",
       "1   POLYGON ((-58.46558 -34.59656, -58.46562 -34.5...  \n",
       "2   POLYGON ((-58.42375 -34.59783, -58.42495 -34.5...  \n",
       "3   POLYGON ((-58.49461 -34.61487, -58.49479 -34.6...  \n",
       "4   POLYGON ((-58.41287 -34.61412, -58.41282 -34.6...  \n",
       "5   POLYGON ((-58.43061 -34.60705, -58.43056 -34.6...  \n",
       "6   POLYGON ((-58.48192 -34.62429, -58.48274 -34.6...  \n",
       "7   POLYGON ((-58.50349 -34.62403, -58.50467 -34.6...  \n",
       "8   POLYGON ((-58.52512 -34.61400, -58.52511 -34.6...  \n",
       "9   POLYGON ((-58.46041 -34.65680, -58.46090 -34.6...  \n",
       "10  POLYGON ((-58.48339 -34.62411, -58.48274 -34.6...  \n",
       "11  POLYGON ((-58.37557 -34.62730, -58.37660 -34.6...  \n",
       "12  POLYGON ((-58.39155 -34.62156, -58.39149 -34.6...  \n",
       "13  POLYGON ((-58.41178 -34.63036, -58.41178 -34.6...  \n",
       "14  POLYGON ((-58.48557 -34.63140, -58.48473 -34.6...  \n",
       "15  POLYGON ((-58.50154 -34.63183, -58.50104 -34.6...  \n",
       "16  POLYGON ((-58.41037 -34.64830, -58.41210 -34.6...  \n",
       "17  POLYGON ((-58.50252 -34.67451, -58.50253 -34.6...  \n",
       "18  POLYGON ((-58.46571 -34.65903, -58.46519 -34.6...  \n",
       "19  POLYGON ((-58.36345 -34.62512, -58.36649 -34.6...  \n",
       "20  POLYGON ((-58.48813 -34.56129, -58.48827 -34.5...  \n",
       "21  POLYGON ((-58.47242 -34.56610, -58.47296 -34.5...  \n",
       "22  POLYGON ((-58.48098 -34.56264, -58.48023 -34.5...  \n",
       "23  POLYGON ((-58.44669 -34.56907, -58.44650 -34.5...  \n",
       "24  POLYGON ((-58.41192 -34.59800, -58.41029 -34.5...  \n",
       "25  POLYGON ((-58.47140 -34.61904, -58.47162 -34.6...  \n",
       "26  POLYGON ((-58.47082 -34.58745, -58.47082 -34.5...  \n",
       "27  POLYGON ((-58.47712 -34.59511, -58.47788 -34.5...  \n",
       "28  POLYGON ((-58.46055 -34.57794, -58.46022 -34.5...  \n",
       "29  POLYGON ((-58.37034 -34.63293, -58.37028 -34.6...  \n",
       "30  POLYGON ((-58.47038 -34.63879, -58.47001 -34.6...  \n",
       "31  POLYGON ((-58.43234 -34.64174, -58.43231 -34.6...  \n",
       "32  POLYGON ((-58.41221 -34.64813, -58.41210 -34.6...  \n",
       "33  POLYGON ((-58.42676 -34.55202, -58.42676 -34.5...  \n",
       "34  POLYGON ((-58.44978 -34.68061, -58.44863 -34.6...  \n",
       "35  POLYGON ((-58.44913 -34.65117, -58.44883 -34.6...  \n",
       "36  POLYGON ((-58.50331 -34.59386, -58.50347 -34.5...  \n",
       "37  POLYGON ((-58.50831 -34.61392, -58.50847 -34.6...  \n",
       "38  POLYGON ((-58.51925 -34.63301, -58.51908 -34.6...  \n",
       "39  POLYGON ((-58.51104 -34.63256, -58.51010 -34.6...  \n",
       "40  POLYGON ((-58.35196 -34.59817, -58.35179 -34.5...  \n",
       "41  POLYGON ((-58.36880 -34.60683, -58.36815 -34.6...  \n",
       "42  POLYGON ((-58.36792 -34.60517, -58.36773 -34.6...  \n",
       "43  POLYGON ((-58.45057 -34.53561, -58.45066 -34.5...  \n",
       "44  POLYGON ((-58.38000 -34.57002, -58.38002 -34.5...  \n",
       "45  POLYGON ((-58.37427 -34.57870, -58.37427 -34.5...  \n",
       "46  POLYGON ((-58.45872 -34.53721, -58.45887 -34.5...  \n",
       "47  POLYGON ((-58.35429 -34.62977, -58.35427 -34.6...  "
      ]
     },
     "execution_count": 428,
     "metadata": {},
     "output_type": "execute_result"
    }
   ],
   "source": [
    "geo_caba = geopandas.read_file(\"barrios.txt\")\n",
    "geo_caba"
   ]
  },
  {
   "cell_type": "code",
   "execution_count": 407,
   "metadata": {},
   "outputs": [
    {
     "data": {
      "text/plain": [
       "<AxesSubplot:>"
      ]
     },
     "execution_count": 407,
     "metadata": {},
     "output_type": "execute_result"
    },
    {
     "data": {
      "image/png": "[encoded data removed]",
      "text/plain": [
       "<Figure size 576x432 with 1 Axes>"
      ]
     },
     "metadata": {
      "needs_background": "light"
     },
     "output_type": "display_data"
    }
   ],
   "source": [
    "datin2 = geopandas.GeoDataFrame(datin, geometry=geopandas.points_from_xy(datin.lon, datin.lat))\n",
    "datin2\n",
    "\n",
    "ax = geo.kdeplot(datin2, shade = True, alpha = 0.7, cmap = 'Reds')\n",
    "geo.polyplot(geo_caba, ax = ax)"
   ]
  },
  {
   "cell_type": "code",
   "execution_count": 408,
   "metadata": {},
   "outputs": [
    {
     "data": {
      "text/plain": [
       "<AxesSubplot:>"
      ]
     },
     "execution_count": 408,
     "metadata": {},
     "output_type": "execute_result"
    },
    {
     "data": {
      "image/png": "[encoded data removed]",
      "text/plain": [
       "<Figure size 576x432 with 2 Axes>"
      ]
     },
     "metadata": {
      "needs_background": "light"
     },
     "output_type": "display_data"
    }
   ],
   "source": [
    "ax = geo.pointplot(datin2[datin2.precio_x_m2_usd < 12500], hue = 'precio_x_m2_usd', legend = True, cmap = 'Reds')\n",
    "geo.polyplot(geo_caba, ax = ax)"
   ]
  },
  {
   "cell_type": "code",
   "execution_count": 409,
   "metadata": {},
   "outputs": [
    {
     "data": {
      "text/plain": [
       "<AxesSubplot:>"
      ]
     },
     "execution_count": 409,
     "metadata": {},
     "output_type": "execute_result"
    },
    {
     "data": {
      "image/png": "[encoded data removed]",
      "text/plain": [
       "<Figure size 576x432 with 2 Axes>"
      ]
     },
     "metadata": {
      "needs_background": "light"
     },
     "output_type": "display_data"
    }
   ],
   "source": [
    "datin = data[data.tipo_prop == \"store\"].groupby('barrio').mean().precio_x_m2_usd.fillna(0)\n",
    "datin.index = datin.index.str.lower()\n",
    "datin\n",
    "\n",
    "geo_caba['barrio'] = geo_caba.barrio.str.lower()\n",
    "\n",
    "datin2 = pd.merge(datin, geo_caba, left_on= 'barrio', right_on= 'barrio', how = 'right').fillna(0)\n",
    "\n",
    "datin2 = geopandas.GeoDataFrame(datin2)\n",
    "\n",
    "geo.choropleth(datin2, hue = datin2['precio_x_m2_usd'],legend = True, cmap = 'Reds')"
   ]
  },
  {
   "cell_type": "code",
   "execution_count": 410,
   "metadata": {},
   "outputs": [
    {
     "data": {
      "text/plain": [
       "<AxesSubplot:>"
      ]
     },
     "execution_count": 410,
     "metadata": {},
     "output_type": "execute_result"
    },
    {
     "data": {
      "image/png": "[encoded data removed]",
      "text/plain": [
       "<Figure size 576x432 with 2 Axes>"
      ]
     },
     "metadata": {
      "needs_background": "light"
     },
     "output_type": "display_data"
    }
   ],
   "source": [
    "datin = data[data.tipo_prop == \"apartment\"].groupby('barrio').mean().sup_total.fillna(0)\n",
    "datin.index = datin.index.str.lower()\n",
    "datin\n",
    "\n",
    "geo_caba['barrio'] = geo_caba.barrio.str.lower()\n",
    "\n",
    "datin2 = pd.merge(datin, geo_caba, left_on= 'barrio', right_on= 'barrio', how = 'right').fillna(0)\n",
    "\n",
    "datin2 = geopandas.GeoDataFrame(datin2)\n",
    "\n",
    "geo.choropleth(datin2, hue = datin2['sup_total'],legend = True, cmap = 'Reds')"
   ]
  },
  {
   "cell_type": "markdown",
   "metadata": {},
   "source": [
    "# URL"
   ]
  },
  {
   "cell_type": "code",
   "execution_count": 62,
   "metadata": {},
   "outputs": [
    {
     "name": "stdout",
     "output_type": "stream",
     "text": [
      "http://www.properati.com.ar/15f6f_venta_departamento_villa-devoto_balcon_baulera_suite_jardin_lavadero_patio_toilette_vista_lujoso_dependencias_electrogeno_garage_doble-circulacion_lincoln-propiedades_c08\n"
     ]
    }
   ],
   "source": [
    "i = 150\n",
    "\n",
    "print(data.properati_url.iloc[i])"
   ]
  },
  {
   "cell_type": "code",
   "execution_count": 71,
   "metadata": {},
   "outputs": [
    {
     "data": {
      "text/plain": [
       "Index(['quincho', 'puerto-madero', 'san-cristobal', 'korn-propiedades', 'gex',\n",
       "       'baigun-operaciones-inmobiliarias', 'gi7', 'palermo-hollywood',\n",
       "       'soldati-propiedades', 'villa-del-parque', 'di-mitrio-inmobiliaria',\n",
       "       'gjr', 'gik', 'electrogeno', 'villa-luro', 'villa-devoto',\n",
       "       'situar-propiedades', 'palermo-soho', 'le-bleu', 'amoblado', '1600',\n",
       "       'desarrollos-financiados', 'parque-patricios', 'migliorisi-propiedades',\n",
       "       'giv', 're-max-premium', 'bs-as-g-b-a-zona-norte', 'fk5',\n",
       "       'norde-propiedades', 'gfh', 'gi2', 'cobo-av-', 'bienvende-amelia-claro',\n",
       "       'grupo-galactica', 'caian-negocis-inmobiliarios',\n",
       "       'emprendimientos-financiados', 'm-m-propiedades', 'yankel-group',\n",
       "       'palermo-chico', 'capital-brokers'],\n",
       "      dtype='object')"
      ]
     },
     "execution_count": 71,
     "metadata": {},
     "output_type": "execute_result"
    }
   ],
   "source": [
    "patron = \"http:\\/\\/www.properati.com.ar\\/\\S{1,5}_venta_\\w+_\"\n",
    "patron = re.compile(patron)\n",
    "\n",
    "data['properati_url_clean'] = data.properati_url.str.replace(patron, \"\")\n",
    "data.properati_url_clean\n",
    "\n",
    "a = data.properati_url_clean.str.split(\"_\")\n",
    "\n",
    "b = []\n",
    "for x in a:\n",
    "    for i in x:\n",
    "        b.append(i)\n",
    "\n",
    "b = pd.Series(b)\n",
    "\n",
    "b = b.value_counts(ascending = False)\n",
    "\n",
    "# sns.barplot(y = b.index, x = b)\n",
    "\n",
    "variables = b.index\n",
    "\n",
    "b[40:80]"
   ]
  },
  {
   "cell_type": "code",
   "execution_count": 64,
   "metadata": {},
   "outputs": [],
   "source": [
    "urls = pd.DataFrame(index = data.index)\n",
    "\n",
    "for x in variables:\n",
    "    i = x.replace(\"-\", \"_\")\n",
    "    a = \"(?P<\" + i + \">\" + x + \")\"\n",
    "    \n",
    "    reg = re.compile(a, flags= re.IGNORECASE)\n",
    "    \n",
    "    url = data.properati_url_clean.str.extract(reg).applymap(lambda x: 0 if x is np.NaN else 1)\n",
    "    \n",
    "    urls = pd.merge(urls, url, right_index= True, left_index= True)"
   ]
  },
  {
   "cell_type": "code",
   "execution_count": 65,
   "metadata": {},
   "outputs": [
    {
     "data": {
      "text/html": [
       "<div>\n",
       "<style scoped>\n",
       "    .dataframe tbody tr th:only-of-type {\n",
       "        vertical-align: middle;\n",
       "    }\n",
       "\n",
       "    .dataframe tbody tr th {\n",
       "        vertical-align: top;\n",
       "    }\n",
       "\n",
       "    .dataframe thead th {\n",
       "        text-align: right;\n",
       "    }\n",
       "</style>\n",
       "<table border=\"1\" class=\"dataframe\">\n",
       "  <thead>\n",
       "    <tr style=\"text-align: right;\">\n",
       "      <th></th>\n",
       "      <th>tipo_prop</th>\n",
       "      <th>barrio</th>\n",
       "      <th>pais</th>\n",
       "      <th>lat</th>\n",
       "      <th>lon</th>\n",
       "      <th>precio_usd</th>\n",
       "      <th>piso</th>\n",
       "      <th>properati_url</th>\n",
       "      <th>ambientes</th>\n",
       "      <th>sup_total</th>\n",
       "      <th>...</th>\n",
       "      <th>villa_crespo</th>\n",
       "      <th>hidromasaje</th>\n",
       "      <th>san_telmo</th>\n",
       "      <th>vista</th>\n",
       "      <th>sauna</th>\n",
       "      <th>losa_radiante</th>\n",
       "      <th>capital_federal</th>\n",
       "      <th>impecable</th>\n",
       "      <th>interwin</th>\n",
       "      <th>doble_circulacion</th>\n",
       "    </tr>\n",
       "  </thead>\n",
       "  <tbody>\n",
       "    <tr>\n",
       "      <th>0</th>\n",
       "      <td>PH</td>\n",
       "      <td>Mataderos</td>\n",
       "      <td>Argentina</td>\n",
       "      <td>-34.661824</td>\n",
       "      <td>-58.508839</td>\n",
       "      <td>62000.0</td>\n",
       "      <td>NaN</td>\n",
       "      <td>http://www.properati.com.ar/15bo8_venta_ph_mat...</td>\n",
       "      <td>2.0</td>\n",
       "      <td>55.0</td>\n",
       "      <td>...</td>\n",
       "      <td>0</td>\n",
       "      <td>0</td>\n",
       "      <td>0</td>\n",
       "      <td>0</td>\n",
       "      <td>0</td>\n",
       "      <td>0</td>\n",
       "      <td>0</td>\n",
       "      <td>0</td>\n",
       "      <td>0</td>\n",
       "      <td>0</td>\n",
       "    </tr>\n",
       "    <tr>\n",
       "      <th>1</th>\n",
       "      <td>apartment</td>\n",
       "      <td>Mataderos</td>\n",
       "      <td>Argentina</td>\n",
       "      <td>-34.652262</td>\n",
       "      <td>-58.522982</td>\n",
       "      <td>72000.0</td>\n",
       "      <td>3.0</td>\n",
       "      <td>http://www.properati.com.ar/15bod_venta_depart...</td>\n",
       "      <td>2.0</td>\n",
       "      <td>55.0</td>\n",
       "      <td>...</td>\n",
       "      <td>0</td>\n",
       "      <td>0</td>\n",
       "      <td>0</td>\n",
       "      <td>0</td>\n",
       "      <td>0</td>\n",
       "      <td>0</td>\n",
       "      <td>0</td>\n",
       "      <td>0</td>\n",
       "      <td>0</td>\n",
       "      <td>0</td>\n",
       "    </tr>\n",
       "    <tr>\n",
       "      <th>2</th>\n",
       "      <td>PH</td>\n",
       "      <td>Liniers</td>\n",
       "      <td>Argentina</td>\n",
       "      <td>-34.647797</td>\n",
       "      <td>-58.516424</td>\n",
       "      <td>95000.0</td>\n",
       "      <td>0.0</td>\n",
       "      <td>http://www.properati.com.ar/15boh_venta_ph_lin...</td>\n",
       "      <td>3.0</td>\n",
       "      <td>NaN</td>\n",
       "      <td>...</td>\n",
       "      <td>0</td>\n",
       "      <td>0</td>\n",
       "      <td>0</td>\n",
       "      <td>0</td>\n",
       "      <td>0</td>\n",
       "      <td>0</td>\n",
       "      <td>0</td>\n",
       "      <td>0</td>\n",
       "      <td>0</td>\n",
       "      <td>0</td>\n",
       "    </tr>\n",
       "    <tr>\n",
       "      <th>3</th>\n",
       "      <td>apartment</td>\n",
       "      <td>Belgrano</td>\n",
       "      <td>Argentina</td>\n",
       "      <td>-34.559873</td>\n",
       "      <td>-58.443362</td>\n",
       "      <td>138000.0</td>\n",
       "      <td>NaN</td>\n",
       "      <td>http://www.properati.com.ar/15bot_venta_depart...</td>\n",
       "      <td>1.0</td>\n",
       "      <td>45.0</td>\n",
       "      <td>...</td>\n",
       "      <td>0</td>\n",
       "      <td>0</td>\n",
       "      <td>0</td>\n",
       "      <td>0</td>\n",
       "      <td>0</td>\n",
       "      <td>0</td>\n",
       "      <td>0</td>\n",
       "      <td>0</td>\n",
       "      <td>0</td>\n",
       "      <td>0</td>\n",
       "    </tr>\n",
       "    <tr>\n",
       "      <th>4</th>\n",
       "      <td>apartment</td>\n",
       "      <td>Belgrano</td>\n",
       "      <td>Argentina</td>\n",
       "      <td>-34.559873</td>\n",
       "      <td>-58.443362</td>\n",
       "      <td>195000.0</td>\n",
       "      <td>NaN</td>\n",
       "      <td>http://www.properati.com.ar/15bou_venta_depart...</td>\n",
       "      <td>NaN</td>\n",
       "      <td>65.0</td>\n",
       "      <td>...</td>\n",
       "      <td>0</td>\n",
       "      <td>0</td>\n",
       "      <td>0</td>\n",
       "      <td>0</td>\n",
       "      <td>0</td>\n",
       "      <td>0</td>\n",
       "      <td>0</td>\n",
       "      <td>0</td>\n",
       "      <td>0</td>\n",
       "      <td>0</td>\n",
       "    </tr>\n",
       "  </tbody>\n",
       "</table>\n",
       "<p>5 rows × 56 columns</p>\n",
       "</div>"
      ],
      "text/plain": [
       "   tipo_prop     barrio       pais        lat        lon  precio_usd  piso  \\\n",
       "0         PH  Mataderos  Argentina -34.661824 -58.508839     62000.0   NaN   \n",
       "1  apartment  Mataderos  Argentina -34.652262 -58.522982     72000.0   3.0   \n",
       "2         PH    Liniers  Argentina -34.647797 -58.516424     95000.0   0.0   \n",
       "3  apartment   Belgrano  Argentina -34.559873 -58.443362    138000.0   NaN   \n",
       "4  apartment   Belgrano  Argentina -34.559873 -58.443362    195000.0   NaN   \n",
       "\n",
       "                                       properati_url  ambientes  sup_total  \\\n",
       "0  http://www.properati.com.ar/15bo8_venta_ph_mat...        2.0       55.0   \n",
       "1  http://www.properati.com.ar/15bod_venta_depart...        2.0       55.0   \n",
       "2  http://www.properati.com.ar/15boh_venta_ph_lin...        3.0        NaN   \n",
       "3  http://www.properati.com.ar/15bot_venta_depart...        1.0       45.0   \n",
       "4  http://www.properati.com.ar/15bou_venta_depart...        NaN       65.0   \n",
       "\n",
       "   ...  villa_crespo  hidromasaje  san_telmo  vista  sauna losa_radiante  \\\n",
       "0  ...             0            0          0      0      0             0   \n",
       "1  ...             0            0          0      0      0             0   \n",
       "2  ...             0            0          0      0      0             0   \n",
       "3  ...             0            0          0      0      0             0   \n",
       "4  ...             0            0          0      0      0             0   \n",
       "\n",
       "   capital_federal  impecable  interwin  doble_circulacion  \n",
       "0                0          0         0                  0  \n",
       "1                0          0         0                  0  \n",
       "2                0          0         0                  0  \n",
       "3                0          0         0                  0  \n",
       "4                0          0         0                  0  \n",
       "\n",
       "[5 rows x 56 columns]"
      ]
     },
     "execution_count": 65,
     "metadata": {},
     "output_type": "execute_result"
    }
   ],
   "source": [
    "data2 = pd.merge(data, urls, left_index= True, right_index= True, how = \"outer\")\n",
    "data2.head()"
   ]
  },
  {
   "cell_type": "code",
   "execution_count": 66,
   "metadata": {},
   "outputs": [],
   "source": [
    "data2.to_csv(\"salida_desafio_1.csv\")"
   ]
  }
 ],
 "metadata": {
  "kernelspec": {
   "display_name": "Python 3",
   "language": "python",
   "name": "python3"
  },
  "language_info": {
   "codemirror_mode": {
    "name": "ipython",
    "version": 3
   },
   "file_extension": ".py",
   "mimetype": "text/x-python",
   "name": "python",
   "nbconvert_exporter": "python",
   "pygments_lexer": "ipython3",
   "version": "3.7.8"
  }
 },
 "nbformat": 4,
 "nbformat_minor": 2
}
